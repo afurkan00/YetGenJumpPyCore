{
 "cells": [
  {
   "cell_type": "markdown",
   "metadata": {},
   "source": [
    "Öğrenilen kısımlar\n",
    "1-Print Fonksiyonu nedir ne işe yarar ve parametleri nelerdir?\n",
    "2-Yorum Satırları, Değişken ve type() komutu\n",
    "3-String, boolean veri türleri ve Input fonksiyonu    "
   ]
  },
  {
   "cell_type": "markdown",
   "metadata": {},
   "source": [
    "1-print() fonksiyonu"
   ]
  },
  {
   "cell_type": "markdown",
   "metadata": {},
   "source": [
    "Bu fonksiyon ekrana çıktı sağlar. \n",
    "Ayrıca metinsel ifaeler veya içerisinde yazılır."
   ]
  },
  {
   "cell_type": "code",
   "execution_count": 10,
   "metadata": {},
   "outputs": [
    {
     "name": "stdout",
     "output_type": "stream",
     "text": [
      "hello world1\n",
      "hello world2\n",
      "hellow worl3\n"
     ]
    },
    {
     "data": {
      "text/plain": [
       "'hello world 5'"
      ]
     },
     "execution_count": 10,
     "metadata": {},
     "output_type": "execute_result"
    }
   ],
   "source": [
    "print(\"hello world1\")\n",
    "print('hello world2')\n",
    "print(\"\"\"hellow worl3\"\"\")\n",
    "\"hello world 5\""
   ]
  },
  {
   "cell_type": "markdown",
   "metadata": {},
   "source": [
    "Print komutu bu şekillerde yazılabilir. Ama print() kısmı olmadan yazılan print komutlarından birden fazla üst üste kullanılması sonuçu sadece en alttaki gözükür. Bu yüzden print() komutunu kullanıyoruz."
   ]
  },
  {
   "cell_type": "markdown",
   "metadata": {},
   "source": [
    "1.1-sep parametresi"
   ]
  },
  {
   "cell_type": "markdown",
   "metadata": {},
   "source": [
    "* Sep ifaesi, ingilizcede separator(ayrıcı, ayraç) kelimesinin kısaltmasıdır.\n",
    "Ekrana verilecek olan öğeler arasına hangi karakterlerin yerleşeçeğini gösterir. Kullanılmasının veya kullanılmamasının önemi yoktur.\n",
    "Çünkü görünmese bile oradadır."
   ]
  },
  {
   "cell_type": "code",
   "execution_count": 11,
   "metadata": {},
   "outputs": [
    {
     "name": "stdout",
     "output_type": "stream",
     "text": [
      "Hello,World\n"
     ]
    }
   ],
   "source": [
    "print(\"Hello\" , \"World\" , sep=\",\")"
   ]
  },
  {
   "cell_type": "markdown",
   "metadata": {},
   "source": [
    "* Özetle sep kısmı kelimeleri ayırırken arasına ne yerleştirebileceğimizi seçecebileğimiz parametredir.."
   ]
  },
  {
   "cell_type": "code",
   "execution_count": 12,
   "metadata": {},
   "outputs": [
    {
     "name": "stdout",
     "output_type": "stream",
     "text": [
      "Max Verstappen/Daniel Ricciaro/Charles Leclerc\n"
     ]
    }
   ],
   "source": [
    "print(\"Max Verstappen\" , \"Daniel Ricciaro\", \"Charles Leclerc\" , sep=\"/\")"
   ]
  },
  {
   "cell_type": "code",
   "execution_count": 13,
   "metadata": {},
   "outputs": [
    {
     "name": "stdout",
     "output_type": "stream",
     "text": [
      "Max Verstappen2Daniel Ricciaro2Charles Leclerc\n"
     ]
    }
   ],
   "source": [
    "print(\"Max Verstappen\" , \"Daniel Ricciaro\", \"Charles Leclerc\" , sep=\"2\")"
   ]
  },
  {
   "cell_type": "markdown",
   "metadata": {},
   "source": [
    "1.2-end"
   ]
  },
  {
   "cell_type": "markdown",
   "metadata": {},
   "source": [
    "* end parametresi parametrelerin sonuna neyin geleceğini belirtir. \n",
    "* end parametresi sep gibi kullanılmasının veya kullanılmamasının önemi yoktur. end'de görünmese bile oradadır."
   ]
  },
  {
   "cell_type": "code",
   "execution_count": 14,
   "metadata": {},
   "outputs": [
    {
     "name": "stdout",
     "output_type": "stream",
     "text": [
      "Python'a Hoş gelin."
     ]
    }
   ],
   "source": [
    "print(\"Python'a Hoş gelin\" , end=\".\")"
   ]
  },
  {
   "cell_type": "markdown",
   "metadata": {},
   "source": [
    "2-Yorum satırları ve Değişkenler"
   ]
  },
  {
   "cell_type": "markdown",
   "metadata": {
    "tags": [
     "parameters"
    ]
   },
   "source": [
    "Yorum Satırları"
   ]
  },
  {
   "cell_type": "markdown",
   "metadata": {},
   "source": [
    "* Python programlama dilinde tek satır halinde açıklama satırı eklemek için # işareti, çoklu yorum satırı için 3 tane tek tırnak kullanılır.\n",
    "* Satırın başı ve sonu arasınaki herhangi bir metin ve kodun Python programlama dili tarafından yok sayılır ve çalıştırılmaz.\n",
    "* Kodu inceleyen başka yazılımcılar için ipucu vermek için kullanılır."
   ]
  },
  {
   "cell_type": "code",
   "execution_count": 15,
   "metadata": {},
   "outputs": [],
   "source": [
    "# Tekli yorum satiri"
   ]
  },
  {
   "cell_type": "code",
   "execution_count": 16,
   "metadata": {},
   "outputs": [
    {
     "data": {
      "text/plain": [
       "'\\nÇoklu metin satiri Bu alana istediğiniz şekilde metin yazabiliriz.\\n'"
      ]
     },
     "execution_count": 16,
     "metadata": {},
     "output_type": "execute_result"
    }
   ],
   "source": [
    "\"\"\"\n",
    "Çoklu metin satiri Bu alana istediğiniz şekilde metin yazabiliriz.\n",
    "\"\"\""
   ]
  },
  {
   "cell_type": "markdown",
   "metadata": {},
   "source": [
    "Degişkenler"
   ]
  },
  {
   "cell_type": "markdown",
   "metadata": {},
   "source": [
    "* Değişkenler bir verinin değerini saklamayı sağlar.\n",
    "* Değişkenler sonradan değiştirilmeye olanak sağladığı için kullanışlır.\n",
    "* Kodları sırasıyla çalışır.\n"
   ]
  },
  {
   "cell_type": "code",
   "execution_count": 17,
   "metadata": {},
   "outputs": [
    {
     "name": "stdout",
     "output_type": "stream",
     "text": [
      "YetGen\n",
      "YetGen\n",
      "YetGen\n",
      "YetGen\n"
     ]
    }
   ],
   "source": [
    "#Değişken kullanımı bu şekildedir.\n",
    "#Eğer yetgen=\"YetGen\" kısmını \"YetGen Jump\" yaparsak\n",
    "#Bütün printler bu şekile yazar.\n",
    "yetgen = \"YetGen\"\n",
    "print(yetgen)\n",
    "print(yetgen)\n",
    "print(yetgen)\n",
    "print(yetgen)"
   ]
  },
  {
   "cell_type": "markdown",
   "metadata": {},
   "source": [
    "Değişken tanımlama kuralları"
   ]
  },
  {
   "cell_type": "markdown",
   "metadata": {},
   "source": [
    "* Değişken adlarında sayılar, harfler, ya da alt çizgi kullanılabilir. Ama değişken isimlendirmeleri alt çizgi ya da harfle başlar.\n",
    "12max = 5 yanlış\n",
    "max1 = 5 doğru\n",
    "_max = 5 doğru\n",
    "* Türkçe karaterler kullanmamaya özen göstermeliyiz.\n",
    "* Değişken isimlendirirken boşluk kullanılmaz.      \n",
    "* Yazış tarzı olarak CamelCase ve Snake Case adlandırma yapabiliriz. \n",
    " Camel Case yani ilk harf küçük başlar ve sonraki kelimelerle birlikte yazılır. Sonraki kelimelerin ilk harfi büyük başlar. Örn: yetkinGencler, yetkinCorePython. \n",
    " Snake Case, isimlendirme türünde her yeni sözcüğün arası '_'(alt çizgi) ile ayrılır, ve her kelime küçük harf ile başlar. Örn: yetkin_gencler yetgen_core_python\n",
    "* Python anahtar kelimeleri kullanılamaz. \n",
    "* Değişken adlandırılırken rakamla başlayamaz.\n",
    "* Büyük küçük harf duyarlıdır.\n",
    "* Değişken adları ne çok kısa, ne de çok uzun olmalıdır. Aynı zamanda kodu okuyan kişi değişkeninin ne için kullanıldığını anlaması gerekir."
   ]
  },
  {
   "cell_type": "markdown",
   "metadata": {},
   "source": [
    "type() komutu \n",
    "* Bir değişkenin integer, float, string ya da boolean olup olmadığını verir. Yani veri tipini verir."
   ]
  },
  {
   "cell_type": "code",
   "execution_count": 18,
   "metadata": {},
   "outputs": [
    {
     "name": "stdout",
     "output_type": "stream",
     "text": [
      "<class 'int'>\n",
      "<class 'bool'>\n",
      "<class 'float'>\n"
     ]
    },
    {
     "data": {
      "text/plain": [
       "float"
      ]
     },
     "execution_count": 18,
     "metadata": {},
     "output_type": "execute_result"
    }
   ],
   "source": [
    "type(1) \n",
    "#alt alta birden fazla yazmak istenilirse.\n",
    "#print içersinde belirtilir.\n",
    "print(type(1))\n",
    "print(type(True))\n",
    "print(type(3.14))\n",
    "#Öteki türlü sadece en sondakini söyler\n",
    "type(1)\n",
    "type(True)\n",
    "type(3.14)"
   ]
  },
  {
   "cell_type": "markdown",
   "metadata": {},
   "source": [
    "3-String, boolean veri türleri \n"
   ]
  },
  {
   "cell_type": "markdown",
   "metadata": {},
   "source": [
    "3.1- Sayı Veri Türleri"
   ]
  },
  {
   "cell_type": "markdown",
   "metadata": {},
   "source": [
    "int \n",
    "* Tam sayıları temsil eder.\n",
    "float\n",
    "* Ondalık sayıları ifade eder.\n",
    "* Mesela 10.0, 20.6, 00.00, -35.6\n",
    "* Python 2 rakamı birbirine böldüğü zaman gerçek sonuca ulaşmak için float değer döndürür.\n"
   ]
  },
  {
   "cell_type": "markdown",
   "metadata": {},
   "source": [
    "Matematiksel işlemler \n",
    "\n",
    "Aritmatik Operatörler\n",
    "* Toplama +\n",
    "* Çıkarma - \n",
    "* Çarpma *\n",
    "* Bölme /\n",
    "* Üs alma ** \n",
    "* Mod alma %\n",
    "* Tam bölme //\n"
   ]
  },
  {
   "cell_type": "code",
   "execution_count": 19,
   "metadata": {},
   "outputs": [],
   "source": [
    "a = 5\n",
    "b= 15"
   ]
  },
  {
   "cell_type": "code",
   "execution_count": 20,
   "metadata": {},
   "outputs": [
    {
     "name": "stdout",
     "output_type": "stream",
     "text": [
      "20\n",
      "-10\n",
      "75\n",
      "0.3333333333333333\n",
      "30517578125\n",
      "5\n",
      "0\n"
     ]
    }
   ],
   "source": [
    "print(a+b)\n",
    "print(a-b)\n",
    "print(a*b)\n",
    "print(a/b)\n",
    "print(a**b)\n",
    "print(a%b)\n",
    "print(a//b)"
   ]
  },
  {
   "cell_type": "markdown",
   "metadata": {},
   "source": [
    "String\n",
    "* Metinsel ifadedir.\n",
    "* Metinsel ifadeler \" \", ' ', \"\"\" \"\"\"arasına yazılması gerekir.\n",
    "* Metinsel ifade hangi tırnak tarzı ile başladıysan öyle devam etmelisin. \" ise \", ' ise ' ile devam edilir.\n",
    "* Metinsel ifadelerin index ile ulaşma imkanı sağlar. Yazılımda index 0'dan başlar. Mesela \"Merhaba dünya\" metninin 2.indexinde r vardır."
   ]
  },
  {
   "cell_type": "code",
   "execution_count": 21,
   "metadata": {},
   "outputs": [
    {
     "name": "stdout",
     "output_type": "stream",
     "text": [
      "Merhaba Dünya\n"
     ]
    }
   ],
   "source": [
    "degisken = \"Merhaba Dünya\"\n",
    "print(degisken)"
   ]
  },
  {
   "cell_type": "code",
   "execution_count": 22,
   "metadata": {},
   "outputs": [
    {
     "name": "stdout",
     "output_type": "stream",
     "text": [
      "b\n",
      "n\n"
     ]
    }
   ],
   "source": [
    "print(degisken [5])\n",
    "#5 kısım yani \"b\" yi verdi.\n",
    "#M 0 ,e 1,r 2, h 3,a 4,b ise 5.index olduğu için.\n",
    "#eğer tersten başlayan index istiyorsak - ile yazarız\n",
    "print(degisken[-3])\n",
    "#Ters index -1'den  başlar.\n",
    "#a -1, y -2, n -3 şeklinde ilerler yani n çıkar."
   ]
  },
  {
   "cell_type": "markdown",
   "metadata": {},
   "source": [
    "Not:Print içinde int ve str birlikte kullanma şekilleri"
   ]
  },
  {
   "cell_type": "code",
   "execution_count": 23,
   "metadata": {},
   "outputs": [
    {
     "ename": "TypeError",
     "evalue": "can only concatenate str (not \"int\") to str",
     "output_type": "error",
     "traceback": [
      "\u001b[1;31m---------------------------------------------------------------------------\u001b[0m",
      "\u001b[1;31mTypeError\u001b[0m                                 Traceback (most recent call last)",
      "Cell \u001b[1;32mIn[23], line 4\u001b[0m\n\u001b[0;32m      2\u001b[0m soyisim \u001b[38;5;241m=\u001b[39m \u001b[38;5;124m\"\u001b[39m\u001b[38;5;124mKale\u001b[39m\u001b[38;5;124m\"\u001b[39m\n\u001b[0;32m      3\u001b[0m yas \u001b[38;5;241m=\u001b[39m \u001b[38;5;241m20\u001b[39m \n\u001b[1;32m----> 4\u001b[0m \u001b[38;5;28mprint\u001b[39m(\u001b[43misim\u001b[49m\u001b[43m \u001b[49m\u001b[38;5;241;43m+\u001b[39;49m\u001b[38;5;124;43m\"\u001b[39;49m\u001b[38;5;124;43m \u001b[39;49m\u001b[38;5;124;43m\"\u001b[39;49m\u001b[38;5;241;43m+\u001b[39;49m\u001b[43m \u001b[49m\u001b[43msoyisim\u001b[49m\u001b[43m \u001b[49m\u001b[38;5;241;43m+\u001b[39;49m\u001b[43m \u001b[49m\u001b[38;5;124;43m\"\u001b[39;49m\u001b[38;5;124;43m \u001b[39;49m\u001b[38;5;124;43m\"\u001b[39;49m\u001b[43m \u001b[49m\u001b[38;5;241;43m+\u001b[39;49m\u001b[43m \u001b[49m\u001b[43myas\u001b[49m)\n\u001b[0;32m      6\u001b[0m \u001b[38;5;66;03m#kodumuz çalışmadı\u001b[39;00m\n\u001b[0;32m      7\u001b[0m \u001b[38;5;66;03m#int ve str birlikte kullanamazsın hatası verdi.\u001b[39;00m\n",
      "\u001b[1;31mTypeError\u001b[0m: can only concatenate str (not \"int\") to str"
     ]
    }
   ],
   "source": [
    "isim = \"FURKAN\"\n",
    "soyisim = \"Kale\"\n",
    "yas = 20 \n",
    "print(isim +\" \"+ soyisim + \" \" + yas)\n",
    "\n",
    "#kodumuz çalışmadı\n",
    "#int ve str birlikte kullanamazsın hatası verdi.\n"
   ]
  },
  {
   "cell_type": "code",
   "execution_count": null,
   "metadata": {},
   "outputs": [
    {
     "name": "stdout",
     "output_type": "stream",
     "text": [
      "FURKAN Kale 20\n"
     ]
    }
   ],
   "source": [
    "print(isim, \" \" , soyisim, \" \" , yas)"
   ]
  },
  {
   "cell_type": "code",
   "execution_count": null,
   "metadata": {},
   "outputs": [
    {
     "name": "stdout",
     "output_type": "stream",
     "text": [
      "FURKAN, Kale 20\n"
     ]
    }
   ],
   "source": [
    "print(f\"{isim}, {soyisim} {yas}\")"
   ]
  },
  {
   "cell_type": "markdown",
   "metadata": {},
   "source": [
    "BOOLEAN\n",
    "* Sadece True-False değerlerini döndürür.\n",
    "\n"
   ]
  },
  {
   "cell_type": "code",
   "execution_count": null,
   "metadata": {},
   "outputs": [
    {
     "name": "stdout",
     "output_type": "stream",
     "text": [
      "True\n",
      "<class 'bool'>\n"
     ]
    }
   ],
   "source": [
    "can = True\n",
    "print(can)\n",
    "print(type(can))"
   ]
  },
  {
   "cell_type": "markdown",
   "metadata": {},
   "source": [
    "input()"
   ]
  },
  {
   "cell_type": "markdown",
   "metadata": {},
   "source": [
    "* Kullanıcıdan veri girişi almamızı sağlar. \n",
    "* İnput ile veri alırken string gibi davranır bu yüzden input alırken sayı alacaksan int ya da float kullan."
   ]
  },
  {
   "cell_type": "code",
   "execution_count": 28,
   "metadata": {},
   "outputs": [
    {
     "name": "stdout",
     "output_type": "stream",
     "text": [
      "10\n"
     ]
    }
   ],
   "source": [
    "sayi1 = int(input(“Sayı1 gir”))\n",
    "sayi2 = int(input(“Sayı2 gir”)\n",
    "print(sayi1 + sayi2)"
   ]
  },
  {
   "cell_type": "code",
   "execution_count": 29,
   "metadata": {},
   "outputs": [
    {
     "name": "stdout",
     "output_type": "stream",
     "text": [
      "Merhaba Furkan\n"
     ]
    }
   ],
   "source": [
    "isim = input(\"İsim giriniz :\")\n",
    "print(\"Merhaba\" , isim)"
   ]
  },
  {
   "cell_type": "code",
   "execution_count": null,
   "metadata": {},
   "outputs": [],
   "source": []
  }
 ],
 "metadata": {
  "kernelspec": {
   "display_name": "Python 3",
   "language": "python",
   "name": "python3"
  },
  "language_info": {
   "codemirror_mode": {
    "name": "ipython",
    "version": 3
   },
   "file_extension": ".py",
   "mimetype": "text/x-python",
   "name": "python",
   "nbconvert_exporter": "python",
   "pygments_lexer": "ipython3",
   "version": "3.12.3"
  }
 },
 "nbformat": 4,
 "nbformat_minor": 2
}
