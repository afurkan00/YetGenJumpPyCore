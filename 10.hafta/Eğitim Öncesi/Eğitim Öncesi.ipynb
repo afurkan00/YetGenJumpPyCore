{
 "cells": [
  {
   "cell_type": "markdown",
   "metadata": {},
   "source": [
    "### Bu hafta öğrenilicek kısımlar.\n",
    "Numpy Nedir ve Neden Kullanıyoruz?  \n",
    "Temel Numpy Özellikleri ve Detayları  \n",
    " \n"
   ]
  },
  {
   "cell_type": "markdown",
   "metadata": {},
   "source": [
    "### Numpy\n",
    "- Numpy sayısal işlemleri hızlı yapmak için C dili ile yazılmış bir Python kütüphanesidir.\n",
    "- Veri analizinde kullanılır.\n",
    "- Bilgisayara kurmak için `pip install numpy` komutu ile kurulabilir.\n",
    "- Bilimsel hesaplamalar için kullanılır.\n",
    "- Arraylar/çok boyutlu arrayler ve matrisler üzerinde yüksek performanslı işlemler yapılabilir.\n",
    "- Temelleri 1995 yılında atıldı. Ama nihai olarak 2005 yılında Travis Oliphant tarafından hayata geçmiştir.\n",
    "- Listelere benzerdir. Fakat verimli veri saklama ve vektör işlemleri için Numpy kullanılır."
   ]
  },
  {
   "cell_type": "markdown",
   "metadata": {},
   "source": [
    "## Neden Numpy?"
   ]
  },
  {
   "cell_type": "code",
   "execution_count": 3,
   "metadata": {},
   "outputs": [
    {
     "name": "stdout",
     "output_type": "stream",
     "text": [
      "[2, 6, 12, 20]\n"
     ]
    }
   ],
   "source": [
    "# Klasik yöntem\n",
    "a = [1,2,3,4]\n",
    "b = [2,3,4,5]\n",
    "ab = []\n",
    "for i in range(0,len(a)):\n",
    "    ab.append(a[i]* b[i])\n",
    "print(ab)"
   ]
  },
  {
   "cell_type": "code",
   "execution_count": 35,
   "metadata": {},
   "outputs": [
    {
     "name": "stdout",
     "output_type": "stream",
     "text": [
      "[ 2  6 12 20]\n"
     ]
    }
   ],
   "source": [
    "# Numpy ile\n",
    "import numpy as np\n",
    "a = np.array([1,2,3,4])\n",
    "b = np.array([2,3,4,5])\n",
    "print(a*b)"
   ]
  },
  {
   "cell_type": "markdown",
   "metadata": {},
   "source": [
    ".reshape() fonksiyonu ile arraylerin boyutlarını değiştirebiliriz."
   ]
  },
  {
   "cell_type": "code",
   "execution_count": 3,
   "metadata": {},
   "outputs": [
    {
     "name": "stdout",
     "output_type": "stream",
     "text": [
      "[[1 2 3]\n",
      " [4 5 6]\n",
      " [7 8 9]]\n"
     ]
    }
   ],
   "source": [
    "x = np.array([1,2,3,4,5,6,7,8,9])\n",
    "multi =x.reshape(3,3)\n",
    "print(multi)"
   ]
  },
  {
   "cell_type": "markdown",
   "metadata": {},
   "source": [
    ".shape ile arraylerin boyutlarını öğrenebiliriz."
   ]
  },
  {
   "cell_type": "code",
   "execution_count": 4,
   "metadata": {},
   "outputs": [
    {
     "name": "stdout",
     "output_type": "stream",
     "text": [
      "(3, 3)\n"
     ]
    }
   ],
   "source": [
    "print(multi.shape)"
   ]
  },
  {
   "cell_type": "markdown",
   "metadata": {},
   "source": [
    ".ndim ile arraylerin boyut sayısını öğrenebiliriz."
   ]
  },
  {
   "cell_type": "code",
   "execution_count": 5,
   "metadata": {},
   "outputs": [
    {
     "name": "stdout",
     "output_type": "stream",
     "text": [
      "1\n"
     ]
    }
   ],
   "source": [
    "print(x.ndim)"
   ]
  },
  {
   "cell_type": "code",
   "execution_count": 6,
   "metadata": {},
   "outputs": [
    {
     "name": "stdout",
     "output_type": "stream",
     "text": [
      "2\n"
     ]
    }
   ],
   "source": [
    "print(multi.ndim)"
   ]
  },
  {
   "cell_type": "markdown",
   "metadata": {},
   "source": [
    "## Temel Numpy Özellikleri"
   ]
  },
  {
   "cell_type": "markdown",
   "metadata": {},
   "source": [
    "### Birleştirme (Concatenation)\n",
    "* .concatenate() fonksiyonu ile birleştirme yapabiliriz.\n"
   ]
  },
  {
   "cell_type": "code",
   "execution_count": 4,
   "metadata": {},
   "outputs": [
    {
     "name": "stdout",
     "output_type": "stream",
     "text": [
      "[ 1  2  3  4  5  6  7  8  9 10]\n"
     ]
    }
   ],
   "source": [
    "x = np.array([1,2,3,4,5])\n",
    "y = np.array([6,7,8,9,10])\n",
    "print(np.concatenate([x,y]))"
   ]
  },
  {
   "cell_type": "code",
   "execution_count": 5,
   "metadata": {},
   "outputs": [
    {
     "name": "stdout",
     "output_type": "stream",
     "text": [
      "[ 1  2  3  4  5  6  7  8  9 10 11 12 13 14 15]\n"
     ]
    }
   ],
   "source": [
    "z = np.array([11,12,13,14,15])\n",
    "print(np.concatenate([x,y,z]))"
   ]
  },
  {
   "cell_type": "code",
   "execution_count": 8,
   "metadata": {},
   "outputs": [
    {
     "name": "stdout",
     "output_type": "stream",
     "text": [
      "[[1 2 3]\n",
      " [4 5 6]\n",
      " [1 2 3]\n",
      " [4 5 6]]\n"
     ]
    }
   ],
   "source": [
    "a = np.array(([1,2,3],[4,5,6]))\n",
    "print(np.concatenate([a,a]))"
   ]
  },
  {
   "cell_type": "markdown",
   "metadata": {},
   "source": []
  },
  {
   "cell_type": "markdown",
   "metadata": {},
   "source": [
    "axis = 0 satır bazında birleşitrme yapar.  \n",
    "axis = 1 ise sütun bazında birleştirme yapar.  "
   ]
  },
  {
   "cell_type": "code",
   "execution_count": 10,
   "metadata": {},
   "outputs": [
    {
     "name": "stdout",
     "output_type": "stream",
     "text": [
      "[[1 2 3 1 2 3]\n",
      " [4 5 6 4 5 6]]\n"
     ]
    }
   ],
   "source": [
    "print(np.concatenate([a,a], axis =1))"
   ]
  },
  {
   "cell_type": "code",
   "execution_count": 11,
   "metadata": {},
   "outputs": [
    {
     "name": "stdout",
     "output_type": "stream",
     "text": [
      "[[1 2 3]\n",
      " [4 5 6]\n",
      " [1 2 3]\n",
      " [4 5 6]]\n"
     ]
    }
   ],
   "source": [
    "print(np.concatenate([a,a], axis =0))"
   ]
  },
  {
   "cell_type": "markdown",
   "metadata": {},
   "source": [
    "### Array Ayırma (Splitting)\n",
    "* .split() fonksiyonu ile array ayırma yapabiliriz."
   ]
  },
  {
   "cell_type": "code",
   "execution_count": 16,
   "metadata": {},
   "outputs": [
    {
     "name": "stdout",
     "output_type": "stream",
     "text": [
      "[array([1, 2, 3]), array([92, 92]), array([3, 2, 1])]\n"
     ]
    }
   ],
   "source": [
    "m = np.array(([1,2,3,92,92,3,2,1]))\n",
    "print(np.split(m,[3,5]))#3. Eleman ile 5.Eleman arasında bir ayırma işlemi gerçekleşir."
   ]
  },
  {
   "cell_type": "markdown",
   "metadata": {},
   "source": [
    "* vsplit() fonksiyonu ile arrary yatay olarak ayırma yapabiliriz."
   ]
  },
  {
   "cell_type": "code",
   "execution_count": 18,
   "metadata": {},
   "outputs": [
    {
     "data": {
      "text/plain": [
       "[array([[0, 1, 2, 3],\n",
       "        [4, 5, 6, 7]]),\n",
       " array([[ 8,  9, 10, 11],\n",
       "        [12, 13, 14, 15]])]"
      ]
     },
     "execution_count": 18,
     "metadata": {},
     "output_type": "execute_result"
    }
   ],
   "source": [
    "n = np.arange(16).reshape(4,4)\n",
    "np.vsplit(n,[2])"
   ]
  },
  {
   "cell_type": "markdown",
   "metadata": {},
   "source": [
    "* hsplit() fonksiyonu ile arrary dikey olarak ayırma yapabiliriz."
   ]
  },
  {
   "cell_type": "code",
   "execution_count": 20,
   "metadata": {},
   "outputs": [
    {
     "data": {
      "text/plain": [
       "[array([[ 0,  1],\n",
       "        [ 4,  5],\n",
       "        [ 8,  9],\n",
       "        [12, 13]]),\n",
       " array([[ 2,  3],\n",
       "        [ 6,  7],\n",
       "        [10, 11],\n",
       "        [14, 15]])]"
      ]
     },
     "execution_count": 20,
     "metadata": {},
     "output_type": "execute_result"
    }
   ],
   "source": [
    "np.hsplit(n,[2])"
   ]
  },
  {
   "cell_type": "markdown",
   "metadata": {},
   "source": [
    "np.arange()  \n",
    "* Belli bir aralıkta sayıları oluşturmak için kullanılır.\n",
    "* np.arange(start,stop,stop)\n"
   ]
  },
  {
   "cell_type": "code",
   "execution_count": 23,
   "metadata": {},
   "outputs": [
    {
     "name": "stdout",
     "output_type": "stream",
     "text": [
      "[ 3  5  7  9 11]\n"
     ]
    }
   ],
   "source": [
    "n = np.arange(3,12,2)\n",
    "print(n)"
   ]
  },
  {
   "cell_type": "markdown",
   "metadata": {},
   "source": [
    "np.zeros()  \n",
    "* 0'lardan oluşan bir numpy dizisi oluşturulması için kullanılır."
   ]
  },
  {
   "cell_type": "code",
   "execution_count": 25,
   "metadata": {},
   "outputs": [
    {
     "name": "stdout",
     "output_type": "stream",
     "text": [
      "[0. 0. 0. 0. 0.]\n"
     ]
    }
   ],
   "source": [
    "n2 = np.zeros(5)\n",
    "print(n2)"
   ]
  },
  {
   "cell_type": "markdown",
   "metadata": {},
   "source": [
    "np.ones()  \n",
    "* 1'lardan oluşan bir numpy dizisi oluşturulması için kullanılır."
   ]
  },
  {
   "cell_type": "code",
   "execution_count": 26,
   "metadata": {},
   "outputs": [
    {
     "name": "stdout",
     "output_type": "stream",
     "text": [
      "[1. 1. 1. 1. 1.]\n"
     ]
    }
   ],
   "source": [
    "n3 = np.ones(5)\n",
    "print(n3)"
   ]
  },
  {
   "cell_type": "markdown",
   "metadata": {},
   "source": [
    "np.linspace()  \n",
    "* Belli bir aralıkta sayıları oluşturmak için kullanılır.\n",
    "* np.linspace(başlangıç, bitiş, bölünecek aralık)"
   ]
  },
  {
   "cell_type": "code",
   "execution_count": 27,
   "metadata": {},
   "outputs": [
    {
     "data": {
      "text/plain": [
       "array([  0.,  25.,  50.,  75., 100.])"
      ]
     },
     "execution_count": 27,
     "metadata": {},
     "output_type": "execute_result"
    }
   ],
   "source": [
    "np.linspace(0,100,5)"
   ]
  },
  {
   "cell_type": "code",
   "execution_count": 28,
   "metadata": {},
   "outputs": [
    {
     "data": {
      "text/plain": [
       "array([ 0.,  5., 10.])"
      ]
     },
     "execution_count": 28,
     "metadata": {},
     "output_type": "execute_result"
    }
   ],
   "source": [
    "np.linspace(0,10,3)"
   ]
  },
  {
   "cell_type": "code",
   "execution_count": 30,
   "metadata": {},
   "outputs": [
    {
     "data": {
      "text/plain": [
       "16"
      ]
     },
     "execution_count": 30,
     "metadata": {},
     "output_type": "execute_result"
    }
   ],
   "source": [
    "np.random.randint(2,22) #Rastgele sayı veriyor aralıktan."
   ]
  },
  {
   "cell_type": "code",
   "execution_count": 31,
   "metadata": {},
   "outputs": [
    {
     "name": "stdout",
     "output_type": "stream",
     "text": [
      "[ 45 145 245 345 445]\n"
     ]
    }
   ],
   "source": [
    "npArray = np.arange(50)\n",
    "npMulti = npArray.reshape(5,10)\n",
    "print(npMulti.sum(axis=1)) # Tüm elemanları topla komutu"
   ]
  },
  {
   "cell_type": "markdown",
   "metadata": {},
   "source": [
    "### Numpy Array'in Özellikleri\n",
    "* ndim : Boyut sayısı\n",
    "* shape : Boyut bilgisi\n",
    "* size : Toplanan eleman sayısı\n",
    "* dtype : Veri tipi"
   ]
  },
  {
   "cell_type": "code",
   "execution_count": 37,
   "metadata": {},
   "outputs": [
    {
     "name": "stdout",
     "output_type": "stream",
     "text": [
      "1\n",
      "(10,)\n",
      "10\n",
      "int32\n"
     ]
    }
   ],
   "source": [
    "a = np.random.randint(10, size=10)\n",
    "print(a.ndim)\n",
    "print(a.shape)\n",
    "print(a.size)\n",
    "print(a.dtype)"
   ]
  },
  {
   "cell_type": "markdown",
   "metadata": {},
   "source": [
    "### Array Sıralama(Sorting)\n",
    "* Array sıralama işlemleri yapmak için numpy kütüphanesinde yer alan sort() fonksiyonu kullanılır."
   ]
  },
  {
   "cell_type": "code",
   "execution_count": 40,
   "metadata": {},
   "outputs": [
    {
     "name": "stdout",
     "output_type": "stream",
     "text": [
      "[  8  24 232  12   5  42  55]\n",
      "[  5   8  12  24  42  55 232]\n"
     ]
    }
   ],
   "source": [
    "v = np.array([8,24,232,12,5,42,55])\n",
    "print(v)\n",
    "v.sort()\n",
    "print(v)"
   ]
  },
  {
   "cell_type": "code",
   "execution_count": 45,
   "metadata": {},
   "outputs": [
    {
     "name": "stdout",
     "output_type": "stream",
     "text": [
      "[[18.0319542  13.17951098 27.31447948]\n",
      " [18.69360632 19.46728554 17.34094291]\n",
      " [24.760955   19.96617058 13.19131093]]\n"
     ]
    }
   ],
   "source": [
    "m = np.random.normal(20,5,(3,3))# 20 ile 5 arasında random sayıları 3'e 3'lük şekilde oluşturur.\n",
    "print(m)"
   ]
  },
  {
   "cell_type": "code",
   "execution_count": 49,
   "metadata": {},
   "outputs": [
    {
     "name": "stdout",
     "output_type": "stream",
     "text": [
      "[[13.17951098 18.0319542  27.31447948]\n",
      " [17.34094291 18.69360632 19.46728554]\n",
      " [13.19131093 19.96617058 24.760955  ]]\n"
     ]
    }
   ],
   "source": [
    "print(np.sort(m,  axis = 1))"
   ]
  },
  {
   "cell_type": "code",
   "execution_count": 48,
   "metadata": {},
   "outputs": [
    {
     "name": "stdout",
     "output_type": "stream",
     "text": [
      "[[18.0319542  13.17951098 13.19131093]\n",
      " [18.69360632 19.46728554 17.34094291]\n",
      " [24.760955   19.96617058 27.31447948]]\n"
     ]
    }
   ],
   "source": [
    "print(np.sort(m, axis = 0))"
   ]
  },
  {
   "cell_type": "markdown",
   "metadata": {},
   "source": [
    "### Index ile Elemanlara Erişmek\n",
    "* Aynı listelerde olduğu gibi index ile elemanlara erişebiliriz."
   ]
  },
  {
   "cell_type": "code",
   "execution_count": 4,
   "metadata": {},
   "outputs": [
    {
     "name": "stdout",
     "output_type": "stream",
     "text": [
      "0\n",
      "[0 8 9 1 7 6 2 8 7 8]\n"
     ]
    }
   ],
   "source": [
    "import numpy as np\n",
    "a = np.random.randint(10, size = 10)\n",
    "print(a[0])\n",
    "print(a)"
   ]
  },
  {
   "cell_type": "code",
   "execution_count": 53,
   "metadata": {},
   "outputs": [
    {
     "name": "stdout",
     "output_type": "stream",
     "text": [
      "0\n"
     ]
    }
   ],
   "source": [
    "a = np.random.randint(10, size = 10)\n",
    "print(a[-1])"
   ]
  },
  {
   "cell_type": "code",
   "execution_count": 54,
   "metadata": {},
   "outputs": [
    {
     "name": "stdout",
     "output_type": "stream",
     "text": [
      "100\n"
     ]
    }
   ],
   "source": [
    "a[0] = 100\n",
    "print(a[0])"
   ]
  },
  {
   "cell_type": "code",
   "execution_count": 55,
   "metadata": {},
   "outputs": [
    {
     "name": "stdout",
     "output_type": "stream",
     "text": [
      "[[9 9 7 7 8]\n",
      " [2 3 1 5 0]\n",
      " [2 0 1 2 9]]\n"
     ]
    }
   ],
   "source": [
    "x = np.random.randint(10,size= (3,5))\n",
    "print(x)"
   ]
  },
  {
   "cell_type": "markdown",
   "metadata": {},
   "source": [
    "### Slicing ile Elemanlara Erişmek(Array Alt Kümesine Erişmek)\n",
    "* bir liste veya dizinin belirli bir bölümünü seçmek için kullanılır. Python'da bu, oldukça yaygın ve kullanışlı bir işlemdir."
   ]
  },
  {
   "cell_type": "code",
   "execution_count": null,
   "metadata": {},
   "outputs": [],
   "source": [
    "# start: Dilimin başlayacağı indeks.\n",
    "# end: Dilimin sona ereceği indeks (bu indeks dahil edilmez).\n",
    "# step: Her seferinde kaç adım atlanacağı.\n",
    "list[start:end:step]"
   ]
  },
  {
   "cell_type": "markdown",
   "metadata": {},
   "source": [
    "Başlangıç veya Bitiş Belirtilmezse  \n",
    "  \n",
    "Başlangıç belirtilmezse, dilimleme 0. indeksten başlar.  \n"
   ]
  },
  {
   "cell_type": "code",
   "execution_count": 71,
   "metadata": {},
   "outputs": [
    {
     "name": "stdout",
     "output_type": "stream",
     "text": [
      "[20 21 22 23 24 25 26 27 28 29]\n"
     ]
    }
   ],
   "source": [
    "a= np.arange(20,30)\n",
    "print(a)"
   ]
  },
  {
   "cell_type": "code",
   "execution_count": 77,
   "metadata": {},
   "outputs": [
    {
     "name": "stdout",
     "output_type": "stream",
     "text": [
      "[20 21 22]\n",
      "-------\n",
      "[20 21 22]\n",
      "-------\n",
      "[23 24 25 26 27 28 29]\n",
      "-------\n",
      "[21 23 25 27 29]\n",
      "-------\n",
      "[20 22 24 26 28]\n"
     ]
    }
   ],
   "source": [
    "print(a[0:3])\n",
    "print(\"-------\")\n",
    "print(a[:3])\n",
    "print(\"-------\")\n",
    "print(a[3:])\n",
    "print(\"-------\")\n",
    "print(a[1::2])\n",
    "print(\"-------\")\n",
    "print(a[0::2])"
   ]
  },
  {
   "cell_type": "markdown",
   "metadata": {},
   "source": [
    "Listeyi tersine çevirmek için -1 kullanılırız."
   ]
  },
  {
   "cell_type": "code",
   "execution_count": null,
   "metadata": {},
   "outputs": [],
   "source": [
    "reversed_numbers = numbers[::-1]  # [9, 8, 7, 6, 5, 4, 3, 2, 1, 0]"
   ]
  },
  {
   "cell_type": "markdown",
   "metadata": {},
   "source": [
    "Not: Python listeleri mutable (değiştirilebilir) olduğu için, dilimleme ile alınan alt kümeyi değiştirmek tüm listeyi etkilemez."
   ]
  },
  {
   "cell_type": "code",
   "execution_count": 66,
   "metadata": {},
   "outputs": [
    {
     "name": "stdout",
     "output_type": "stream",
     "text": [
      "[[3 4 1 3 1]\n",
      " [9 2 7 9 6]\n",
      " [4 2 8 7 1]\n",
      " [2 0 4 6 0]\n",
      " [6 0 2 9 3]]\n"
     ]
    }
   ],
   "source": [
    "b = np.random.randint(10, size =[5,5])\n",
    "print(b)"
   ]
  },
  {
   "cell_type": "code",
   "execution_count": 78,
   "metadata": {},
   "outputs": [
    {
     "name": "stdout",
     "output_type": "stream",
     "text": [
      "[3 9 4 2 6]\n"
     ]
    }
   ],
   "source": [
    "print(b[:,0]) #,0 demek 0. sutundaki elemanları al anlamına gelir."
   ]
  },
  {
   "cell_type": "code",
   "execution_count": 68,
   "metadata": {},
   "outputs": [
    {
     "name": "stdout",
     "output_type": "stream",
     "text": [
      "[4 2 2 0 0]\n"
     ]
    }
   ],
   "source": [
    "print(b[:,1])"
   ]
  },
  {
   "cell_type": "code",
   "execution_count": 79,
   "metadata": {},
   "outputs": [
    {
     "name": "stdout",
     "output_type": "stream",
     "text": [
      "[3 4 1 3 1]\n"
     ]
    }
   ],
   "source": [
    "print(b[0,:]) # Bu da 0.sutundaki elemanları al anlamına gelir."
   ]
  },
  {
   "cell_type": "code",
   "execution_count": 81,
   "metadata": {},
   "outputs": [
    {
     "name": "stdout",
     "output_type": "stream",
     "text": [
      "[[3 1 1]\n",
      " [4 8 1]\n",
      " [6 2 3]]\n"
     ]
    }
   ],
   "source": [
    "print(b[::2,::2]) #0. indeksten itibaren 2 şer fark ile satırdaki elemanları al ve her satırdan 2 şer atlayarak ilk kısmı yapmaya devam et."
   ]
  },
  {
   "cell_type": "markdown",
   "metadata": {},
   "source": [
    "### Alt Küme Üzerinde İşlem Yapmak"
   ]
  },
  {
   "cell_type": "code",
   "execution_count": 83,
   "metadata": {},
   "outputs": [
    {
     "name": "stdout",
     "output_type": "stream",
     "text": [
      "[[5 3 1 4 0]\n",
      " [2 3 7 5 4]\n",
      " [0 7 8 2 6]\n",
      " [0 4 8 7 4]\n",
      " [6 1 2 8 1]]\n"
     ]
    },
    {
     "data": {
      "text/plain": [
       "array([[5, 3],\n",
       "       [2, 3],\n",
       "       [0, 7]], dtype=int32)"
      ]
     },
     "execution_count": 83,
     "metadata": {},
     "output_type": "execute_result"
    }
   ],
   "source": [
    "c = np.random.randint(10, size =[5,5])\n",
    "print(c)\n",
    "alt_c = c[0:3,0:2] \n",
    "alt_c"
   ]
  },
  {
   "cell_type": "markdown",
   "metadata": {},
   "source": [
    "### Fancy Index\n",
    "* Bir liste içine bu arrayden istediğiniz indeksleri koyarak o indeksteki verileri alabiliriz."
   ]
  },
  {
   "cell_type": "code",
   "execution_count": 84,
   "metadata": {},
   "outputs": [
    {
     "name": "stdout",
     "output_type": "stream",
     "text": [
      "[ 0  3  6  9 12 15 18 21 24 27]\n"
     ]
    }
   ],
   "source": [
    "v = np.arange(0,30,3)\n",
    "print(v)"
   ]
  },
  {
   "cell_type": "code",
   "execution_count": 86,
   "metadata": {},
   "outputs": [
    {
     "name": "stdout",
     "output_type": "stream",
     "text": [
      "[ 3  9 15]\n"
     ]
    }
   ],
   "source": [
    "yetgen = [1,3,5]\n",
    "print(v[yetgen]) # 1.index, 3.index ve 5.indexi getirdik"
   ]
  },
  {
   "cell_type": "code",
   "execution_count": 89,
   "metadata": {},
   "outputs": [
    {
     "name": "stdout",
     "output_type": "stream",
     "text": [
      "[1 5]\n"
     ]
    }
   ],
   "source": [
    "m = np.arange(9).reshape(3,3)\n",
    "satir= np.array([0,1])\n",
    "sutun= np.array([1,2])\n",
    "print(m[satir,sutun])"
   ]
  },
  {
   "cell_type": "markdown",
   "metadata": {},
   "source": [
    "### Koşullu Eleman İşlemleri"
   ]
  },
  {
   "cell_type": "code",
   "execution_count": 103,
   "metadata": {},
   "outputs": [
    {
     "name": "stdout",
     "output_type": "stream",
     "text": [
      "[False False False  True  True]\n",
      "----------\n",
      "[4 5]\n",
      "----------\n",
      "[1 2]\n",
      "----------\n",
      "[3 4 5]\n",
      "----------\n",
      "[1 2 3]\n",
      "----------\n",
      "[1 2 4 5]\n",
      "----------\n",
      "[3]\n"
     ]
    }
   ],
   "source": [
    "v = np.array([1,2,3,4,5])\n",
    "print(v>3)\n",
    "print(\"----------\")\n",
    "print(v[v > 3])\n",
    "print(\"----------\")\n",
    "print(v[v < 3])\n",
    "print(\"----------\")\n",
    "print(v[v >= 3])\n",
    "print(\"----------\")\n",
    "print(v[v <= 3])\n",
    "print(\"----------\")\n",
    "print(v[v != 3])\n",
    "print(\"----------\")\n",
    "print(v[v == 3])"
   ]
  },
  {
   "cell_type": "markdown",
   "metadata": {},
   "source": [
    "### Matematiksel İşlemler"
   ]
  },
  {
   "cell_type": "code",
   "execution_count": 109,
   "metadata": {},
   "outputs": [
    {
     "name": "stdout",
     "output_type": "stream",
     "text": [
      "[ 2  4  6  8 10]\n",
      "----------\n",
      "[3 4 5 6 7]\n",
      "----------\n",
      "[0.5 1.  1.5 2.  2.5]\n",
      "----------\n",
      "[ 1  4  9 16 25]\n",
      "----------\n"
     ]
    }
   ],
   "source": [
    "v = np.array([1,2,3,4,5])\n",
    "\n",
    "print(v*2)\n",
    "print(\"----------\")\n",
    "print(v +2)\n",
    "print(\"----------\")\n",
    "print(v * 5 / 10)\n",
    "print(\"----------\")\n",
    "print(v ** 2)\n",
    "print(\"----------\")"
   ]
  },
  {
   "cell_type": "code",
   "execution_count": 118,
   "metadata": {},
   "outputs": [
    {
     "name": "stdout",
     "output_type": "stream",
     "text": [
      "[-2 -1  0  1  2]\n",
      "[4 5 6 7 8]\n",
      "[ 3  6  9 12 15]\n",
      "[0.5 1.  1.5 2.  2.5]\n",
      "[ 1  4  9 16 25]\n",
      "[1 2 0 1 2]\n",
      "[1 2 3 4 5]\n",
      "2.302585092994046\n"
     ]
    }
   ],
   "source": [
    "print(np.subtract(v,3)) # Her birinden 3 çıkartır.\n",
    "print(np.add(v,3)) # Her birine 3 ekler.\n",
    "print(np.multiply(v,3)) # Her birini 3 ile çarpar.\n",
    "print(np.divide(v,2)) # Her birini 2'ye böler.\n",
    "print(np.power(v,2)) # Her birinin 2 üssünü alır.\n",
    "print(np.mod(v,3)) # Her birinin 3'e modunu alır.\n",
    "print(np.absolute(v)) # Her birinii multak değere alır.\n",
    "print(np.log(10)) # log 10 değerini alır."
   ]
  },
  {
   "cell_type": "markdown",
   "metadata": {},
   "source": [
    "Bunun gibi bir sürü daha kısım mevcut. Onlara bakmak istebilirse ?np / ?numpy yazılarak ulaşılabilir"
   ]
  },
  {
   "cell_type": "markdown",
   "metadata": {},
   "source": [
    "### İki Bilinmeyenli Denklem Çözümü"
   ]
  },
  {
   "cell_type": "code",
   "execution_count": 129,
   "metadata": {},
   "outputs": [
    {
     "name": "stdout",
     "output_type": "stream",
     "text": [
      "[1.85714286 2.71428571]\n"
     ]
    }
   ],
   "source": [
    "# 5*x0 + x1 = 12\n",
    "# x0 + 3*x1 = 10\n",
    "a =np.array([[5,1],[1,3]]) \n",
    "b =np.array([12,10]) #1.denklem ve 2.denmklem cevapları\n",
    "x =np.linalg.solve(a,b)\n",
    "print(x)"
   ]
  }
 ],
 "metadata": {
  "kernelspec": {
   "display_name": "Python 3",
   "language": "python",
   "name": "python3"
  },
  "language_info": {
   "codemirror_mode": {
    "name": "ipython",
    "version": 3
   },
   "file_extension": ".py",
   "mimetype": "text/x-python",
   "name": "python",
   "nbconvert_exporter": "python",
   "pygments_lexer": "ipython3",
   "version": "3.12.3"
  }
 },
 "nbformat": 4,
 "nbformat_minor": 2
}
