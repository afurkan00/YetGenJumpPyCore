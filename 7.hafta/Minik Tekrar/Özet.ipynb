{
 "cells": [
  {
   "cell_type": "markdown",
   "id": "507eefac",
   "metadata": {},
   "source": [
    "### 1. Print Fonksiyonu"
   ]
  },
  {
   "cell_type": "code",
   "execution_count": null,
   "id": "1c1132c4",
   "metadata": {},
   "outputs": [],
   "source": [
    "# Print fonksiyonu, ekrana çıktı yazdırır.\n",
    "print(\"Merhaba, dünya!\")  # 'Merhaba, dünya!' çıktısını verir."
   ]
  },
  {
   "cell_type": "markdown",
   "id": "231cbd8d",
   "metadata": {},
   "source": [
    "### 2. Yorum Satırları, Değişken ve `type()`"
   ]
  },
  {
   "cell_type": "code",
   "execution_count": null,
   "id": "6901378e",
   "metadata": {},
   "outputs": [],
   "source": [
    "# Bu bir yorum satırıdır.\n",
    "sayi = 42  # Değişken tanımlama\n",
    "print(type(sayi))  # <class 'int'> çıktısını verir."
   ]
  },
  {
   "cell_type": "markdown",
   "id": "c59cf8b7",
   "metadata": {},
   "source": [
    "### 3. String, Boolean ve `input()`"
   ]
  },
  {
   "cell_type": "code",
   "execution_count": null,
   "id": "7c19c40e",
   "metadata": {},
   "outputs": [],
   "source": [
    "ad = input(\"Adınızı girin: \")  # Kullanıcıdan giriş alır\n",
    "dogru = True  # Boolean değer\n",
    "print(\"Merhaba, \" + ad)  # Kullanıcının adını ekrana yazdırır."
   ]
  },
  {
   "cell_type": "markdown",
   "id": "2e3d63cc",
   "metadata": {},
   "source": [
    "### 4. Karşılaştırma ve Mantıksal Operatörler"
   ]
  },
  {
   "cell_type": "code",
   "execution_count": null,
   "id": "06774b1d",
   "metadata": {},
   "outputs": [],
   "source": [
    "x = 5\n",
    "y = 10\n",
    "print(x < y)  # True çıktısını verir.\n",
    "print(x > 3 and y < 15)  # True çıktısını verir."
   ]
  },
  {
   "cell_type": "markdown",
   "id": "5a0f57d7",
   "metadata": {},
   "source": [
    "### 5. Karar Yapıları"
   ]
  },
  {
   "cell_type": "code",
   "execution_count": null,
   "id": "26a224a3",
   "metadata": {},
   "outputs": [],
   "source": [
    "yas = 18\n",
    "if yas >= 18:\n",
    "    print(\"Ehliyet alabilirsiniz.\")\n",
    "else:\n",
    "    print(\"Ehliyet alamazsınız.\")"
   ]
  },
  {
   "cell_type": "markdown",
   "id": "228a40fb",
   "metadata": {},
   "source": [
    "### 6. Döngüler ve `range()`"
   ]
  },
  {
   "cell_type": "code",
   "execution_count": null,
   "id": "28632cc2",
   "metadata": {},
   "outputs": [],
   "source": [
    "for i in range(5):\n",
    "    print(i)  # 0'dan 4'e kadar olan sayıları yazdırır."
   ]
  },
  {
   "cell_type": "markdown",
   "id": "f97f9db5",
   "metadata": {},
   "source": [
    "### 7. Listeler"
   ]
  },
  {
   "cell_type": "code",
   "execution_count": null,
   "id": "8fe614bf",
   "metadata": {},
   "outputs": [],
   "source": [
    "meyveler = [\"Elma\", \"Muz\", \"Kiraz\"]\n",
    "print(len(meyveler))  # 3"
   ]
  },
  {
   "cell_type": "markdown",
   "id": "c0071595",
   "metadata": {},
   "source": [
    "### 8. Tuple"
   ]
  },
  {
   "cell_type": "code",
   "execution_count": null,
   "id": "bc398443",
   "metadata": {},
   "outputs": [],
   "source": [
    "meyve_tuple = (\"Elma\", \"Muz\", \"Kiraz\")\n",
    "print(meyve_tuple[0])  # 'Elma'"
   ]
  },
  {
   "cell_type": "markdown",
   "id": "7ad82d22",
   "metadata": {},
   "source": [
    "### 9. Set"
   ]
  },
  {
   "cell_type": "code",
   "execution_count": null,
   "id": "343f1614",
   "metadata": {},
   "outputs": [],
   "source": [
    "meyve_set = {\"Elma\", \"Muz\", \"Kiraz\"}\n",
    "print(\"Elma\" in meyve_set)  # True"
   ]
  },
  {
   "cell_type": "markdown",
   "id": "e5e31972",
   "metadata": {},
   "source": [
    "### 10. Dictionary"
   ]
  },
  {
   "cell_type": "code",
   "execution_count": null,
   "id": "7e063e3e",
   "metadata": {},
   "outputs": [],
   "source": [
    "meyve_fiyatlari = {\"Elma\": 3, \"Muz\": 2}\n",
    "print(meyve_fiyatlari[\"Elma\"])  # 3"
   ]
  },
  {
   "cell_type": "markdown",
   "id": "f02ba4dd",
   "metadata": {},
   "source": [
    "### 11. List Comprehension"
   ]
  },
  {
   "cell_type": "code",
   "execution_count": null,
   "id": "8ced19f9",
   "metadata": {},
   "outputs": [],
   "source": [
    "sayilar = [x for x in range(10) if x % 2 == 0]\n",
    "print(sayilar)  # [0, 2, 4, 6, 8]"
   ]
  },
  {
   "cell_type": "markdown",
   "id": "e69c63cd",
   "metadata": {},
   "source": [
    "### 12. Fonksiyonlar ve Argümanlar"
   ]
  },
  {
   "cell_type": "code",
   "execution_count": null,
   "id": "dded91fe",
   "metadata": {},
   "outputs": [],
   "source": [
    "def topla(a, b):\n",
    "    return a + b\n",
    "\n",
    "print(topla(3, 5))  # 8"
   ]
  },
  {
   "cell_type": "markdown",
   "id": "ad626a6f",
   "metadata": {},
   "source": [
    "### 13. `return`, `*args`, `**kwargs`, `pass`"
   ]
  },
  {
   "cell_type": "code",
   "execution_count": null,
   "id": "fee14a58",
   "metadata": {},
   "outputs": [],
   "source": [
    "def ornek(*args, **kwargs):\n",
    "    pass  # Henüz uygulanmamış fonksiyon\n",
    "\n",
    "def topla(a, b):\n",
    "    return a + b"
   ]
  },
  {
   "cell_type": "markdown",
   "id": "2929a8f6",
   "metadata": {},
   "source": [
    "### 14. Modüller ve Math Modülü"
   ]
  },
  {
   "cell_type": "code",
   "execution_count": null,
   "id": "8b9e80bc",
   "metadata": {},
   "outputs": [],
   "source": [
    "import math\n",
    "print(math.sqrt(16))  # 4.0"
   ]
  },
  {
   "cell_type": "markdown",
   "id": "a872a3b6",
   "metadata": {},
   "source": [
    "### 15. Gömülü Fonksiyonlar"
   ]
  },
  {
   "cell_type": "code",
   "execution_count": null,
   "id": "a00ef59d",
   "metadata": {},
   "outputs": [],
   "source": [
    "print(len(\"Merhaba\"))  # 7"
   ]
  },
  {
   "cell_type": "markdown",
   "id": "be473896",
   "metadata": {},
   "source": [
    "### 16. Hata Yönetimi"
   ]
  },
  {
   "cell_type": "code",
   "execution_count": null,
   "id": "cf46d577",
   "metadata": {},
   "outputs": [],
   "source": [
    "try:\n",
    "    sayi = int(\"abc\")\n",
    "except ValueError:\n",
    "    print(\"Geçersiz sayı!\")"
   ]
  },
  {
   "cell_type": "markdown",
   "id": "6b775d1e",
   "metadata": {},
   "source": [
    "### 17. Dosya İşlemleri"
   ]
  },
  {
   "cell_type": "code",
   "execution_count": null,
   "id": "b96df61f",
   "metadata": {},
   "outputs": [],
   "source": [
    "with open(\"dosya.txt\", \"r\") as dosya:\n",
    "    icerik = dosya.read()"
   ]
  },
  {
   "cell_type": "markdown",
   "id": "af89ccd0",
   "metadata": {},
   "source": [
    "### 18. Nesne Yönelimli Programlama"
   ]
  },
  {
   "cell_type": "code",
   "execution_count": null,
   "id": "d938a354",
   "metadata": {},
   "outputs": [],
   "source": [
    "class Araba:\n",
    "    def __init__(self, marka):\n",
    "        self.marka = marka\n",
    "\n",
    "arac = Araba(\"Toyota\")"
   ]
  },
  {
   "cell_type": "markdown",
   "id": "fc596f4f",
   "metadata": {},
   "source": [
    "### 19. Global ve Yerel Değişkenler, Lambda Gösterimi"
   ]
  },
  {
   "cell_type": "code",
   "execution_count": null,
   "id": "8b8aaa14",
   "metadata": {},
   "outputs": [],
   "source": [
    "x = 10\n",
    "\n",
    "def fonk():\n",
    "    global x\n",
    "    x = 5\n",
    "\n",
    "topla = lambda a, b: a + b"
   ]
  },
  {
   "cell_type": "markdown",
   "id": "cdf967af",
   "metadata": {},
   "source": [
    "### 20. String Metodları"
   ]
  },
  {
   "cell_type": "code",
   "execution_count": null,
   "id": "6323acfb",
   "metadata": {},
   "outputs": [],
   "source": [
    "metin = \"Merhaba\"\n",
    "print(metin.upper())  # 'MERHABA'"
   ]
  }
 ],
 "metadata": {},
 "nbformat": 4,
 "nbformat_minor": 5
}