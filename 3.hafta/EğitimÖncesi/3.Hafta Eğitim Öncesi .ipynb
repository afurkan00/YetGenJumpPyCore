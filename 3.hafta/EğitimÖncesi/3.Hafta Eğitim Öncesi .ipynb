{
 "cells": [
  {
   "cell_type": "markdown",
   "metadata": {},
   "source": [
    "Bu Hafta Öğrenilecek Kısımlar.\n",
    "* Karşılaştırma ve Mantıksal Operatörler\n",
    "* Karar Yapıları\n",
    "* Döngüler ve range fonksiyonu\n"
   ]
  },
  {
   "cell_type": "markdown",
   "metadata": {},
   "source": [
    "### Karşılaştırma ve Mantıksal Operatörler\n"
   ]
  },
  {
   "cell_type": "markdown",
   "metadata": {},
   "source": [
    "* \"=\" atama operatörü\n",
    "* \"==\" iki değerin birbirine eşit olup olmadığını kontrol eder. Eşitse True değilse False değerini döndürür.\n",
    "* \"!=\" eşit değil mi? Cevap eşit değilse True, eşitse False değerini döndürür.\n",
    "* Büyük \">\" ve küçük \"<\".\n",
    "* \"=>\" büyük eşit, \"<=\" küçük eşit.  \n",
    "\n",
    "Bu semboller kullanılır.  \n"
   ]
  },
  {
   "cell_type": "code",
   "execution_count": null,
   "metadata": {},
   "outputs": [],
   "source": [
    "#Örnekler\n",
    "a, b, c, d = 5, 5, 10, 4\n",
    "print(a == b) #True\n",
    "print(a == c) #False"
   ]
  },
  {
   "cell_type": "code",
   "execution_count": null,
   "metadata": {},
   "outputs": [],
   "source": [
    "userName = \"admin\"\n",
    "password = \"12345\"\n",
    "print(\"furkan\" == userName ) #False"
   ]
  },
  {
   "cell_type": "code",
   "execution_count": null,
   "metadata": {},
   "outputs": [],
   "source": [
    "print(a != b) #False\n",
    "print(a != c) #True"
   ]
  },
  {
   "cell_type": "code",
   "execution_count": null,
   "metadata": {},
   "outputs": [],
   "source": [
    "print(a>b) #False\n",
    "print(a>= b) #True\n",
    "print(a<=b) #True"
   ]
  },
  {
   "cell_type": "markdown",
   "metadata": {},
   "source": [
    "##### Mantıksal Operatörler"
   ]
  },
  {
   "cell_type": "markdown",
   "metadata": {},
   "source": [
    "AND Opearatörü"
   ]
  },
  {
   "cell_type": "markdown",
   "metadata": {},
   "source": [
    "Matematikteki mantık konusunada bulunan \"ve\" yani  \"∧\" sembolüdür aslında .Yani sadece True ve True değerinde True değeri çıkar. Ötekilerinde False değeri döndürür.\n",
    "* True and True = True\n",
    "* True and False = False\n",
    "* False and True = False\n",
    "* False and False = False\n"
   ]
  },
  {
   "cell_type": "code",
   "execution_count": null,
   "metadata": {},
   "outputs": [],
   "source": [
    "#Örnek\n",
    "x = int(input(\"Enter a number :\"))\n",
    "print(x > 5 and x < 100)\n",
    "# x=6 olur ise 2 kısımda True verir ama x=3 olur ise False and True= False olarak çıkar."
   ]
  },
  {
   "cell_type": "markdown",
   "metadata": {},
   "source": [
    "OR Operatörü"
   ]
  },
  {
   "cell_type": "markdown",
   "metadata": {},
   "source": [
    "Bu operatörde mantık konusundaki \"veya\" yani \"v\" sembölüdür.\n",
    "Sadece ikiside False ise False döndürür öteki sonuçların hepsi True çıkar.\n",
    "* True or True = True\n",
    "* True or False = True\n",
    "* False or True = True\n",
    "* False or False = False"
   ]
  },
  {
   "cell_type": "code",
   "execution_count": 8,
   "metadata": {},
   "outputs": [
    {
     "name": "stdout",
     "output_type": "stream",
     "text": [
      "True\n"
     ]
    }
   ],
   "source": [
    "#Örnek\n",
    "x = int(input(\"Enter a number:\"))\n",
    "print(x > 0 or x % 2 == 0)\n",
    "#x=-1 olur ise False çıktısı verir ama x= -4 olsaydı 2. kısım True olacağından cevapta True çıkardı gibi gibi."
   ]
  },
  {
   "cell_type": "markdown",
   "metadata": {},
   "source": [
    "NOT operatörü"
   ]
  },
  {
   "cell_type": "markdown",
   "metadata": {},
   "source": [
    "* True'ni değerini False'a\n",
    "* False'ı  True'ya döndürür."
   ]
  },
  {
   "cell_type": "code",
   "execution_count": 10,
   "metadata": {},
   "outputs": [
    {
     "name": "stdout",
     "output_type": "stream",
     "text": [
      "False\n"
     ]
    }
   ],
   "source": [
    "print(not(True))"
   ]
  },
  {
   "cell_type": "markdown",
   "metadata": {},
   "source": [
    "### Karar Yapıları"
   ]
  },
  {
   "cell_type": "markdown",
   "metadata": {},
   "source": [
    "* Eğer if bloğu doğruysa diğer durumlara bakılmaz ve if bloğu altındaki kodlar çalışır.\n",
    "* else yapısının kullanılması zorunlu değildir olsa da olur olmasa da olur.\n",
    "* elif yapısının kullanılması zorunlu değildir.\n",
    "* else yapısı if ve varsa elif yapısının false olduğu durumda ikinci nihai durum olarak çalışır.\n",
    "* elif yapısına birden çok farklı koşullardan doğacak durumların kontrolünü sağlamak için kullanılırız.\n"
   ]
  },
  {
   "cell_type": "code",
   "execution_count": null,
   "metadata": {},
   "outputs": [],
   "source": [
    "if condition1:\n",
    "     #koşul1 doğruysa çalışacak kodlar\n",
    "\n",
    "elif condition2:\n",
    "    #koşul2 doğruysa çalışacak kodlar\n",
    "\n",
    "else:\n",
    "    #koşul ve koşul2 yanlışsa çalışacak kodlar.\n"
   ]
  },
  {
   "cell_type": "markdown",
   "metadata": {},
   "source": [
    "Örnekler"
   ]
  },
  {
   "cell_type": "code",
   "execution_count": 13,
   "metadata": {},
   "outputs": [
    {
     "name": "stdout",
     "output_type": "stream",
     "text": [
      "İf bloğu çalıştı\n",
      "Program sonlandı\n"
     ]
    }
   ],
   "source": [
    "if 3>1:\n",
    "    print(\"If block worked\")\n",
    "print(\"Program ended\")\n",
    "#Not:Bu komutları kullanırken sonraki satırda 4 blok boşluk bırakılması gerekiyor komutun çalışması için. "
   ]
  },
  {
   "cell_type": "code",
   "execution_count": null,
   "metadata": {},
   "outputs": [],
   "source": [
    "num1 = int(input(\"Enter the 1st number:\"))\n",
    "num2 = int(input(\"Enter the 2nd number:\"))\n",
    "if num1 > num2\n",
    "    print(\"Number 1 is greater than number 2.\")\n",
    "elif num1 == num2\n",
    "    print(\"Numbers are equal.\")\n",
    " else:\n",
    "    print(\"Number 2 is greater than number 1.\")\n",
    "    "
   ]
  },
  {
   "cell_type": "code",
   "execution_count": null,
   "metadata": {},
   "outputs": [],
   "source": [
    "#Üstteki kısmı sonda else yerine elif komutu koyarak da yapabilirdik.\n",
    "#Örnek olarak:\n",
    "num1 = int(input(\"Enter the 1st number:\"))\n",
    "num2 = int(input(\"Enter the 2nd number:\"))\n",
    "if num1 > num2\n",
    "    print(\"Number 1 is greater than number 2.\")\n",
    "elif num1 == num2\n",
    "    print(\"These numbers are equal to each other.\")\n",
    "elif num1 < num2\n",
    "    print(\"Number 2 is greater than number 1.\")"
   ]
  },
  {
   "cell_type": "code",
   "execution_count": 15,
   "metadata": {},
   "outputs": [
    {
     "name": "stdout",
     "output_type": "stream",
     "text": [
      "This hero does not exist\n"
     ]
    }
   ],
   "source": [
    "superHero = input(\"Select a superhero\")\n",
    "if superHero == \"Batman\":\n",
    "    print(\"You chose Batman\")\n",
    "elif superHero == \"Superman\":\n",
    "    print(\"You chose Superman\")\n",
    "elif superHero == \"Ironman\":\n",
    "    print(\"You chose Ironman\")\n",
    "else:\n",
    "    print(\"This hero does not exist\")"
   ]
  },
  {
   "cell_type": "code",
   "execution_count": null,
   "metadata": {},
   "outputs": [],
   "source": [
    "num3 = 10\n",
    "num4 = 20\n",
    "if num3 >5:\n",
    "    print(\"Number 3 is greater than 5.\")\n",
    "    if num4 > 10:\n",
    "        print(\"Number 4 is greater than 10.\")\n",
    "   "
   ]
  },
  {
   "cell_type": "code",
   "execution_count": null,
   "metadata": {},
   "outputs": [],
   "source": [
    " num = int(input(\"Enter a number:\"))\n",
    "if num % 2 == 0:\n",
    "    print(f\"{num} number is even.\")\n",
    "else:\n",
    "   print(f\"{num} number is odd.\")\n",
    "\n",
    "'''\n",
    "Bir sayının çift olup olmadığını ikiye bölümünden kalanı (mod2) kontrol ederek bulabiliriz.\n",
    "Eğer, sayının iki ile bölümü 0 ise (mod2=0), sayı çifttir.\n",
    "Eğer 2 ile bölümü 0 değil ise sayı tektir.\n",
    "'''"
   ]
  },
  {
   "cell_type": "markdown",
   "metadata": {},
   "source": [
    "#### İn Operatörü"
   ]
  },
  {
   "cell_type": "markdown",
   "metadata": {},
   "source": [
    "Belirtilen bir değerin, dizi, metin, liste veya demet gibi bir dizinin öğesi olup olmadığını kontrol eder.  \n",
    "\n",
    "True ya da false değeri döndürür.  \n",
    "\n"
   ]
  },
  {
   "cell_type": "code",
   "execution_count": 26,
   "metadata": {},
   "outputs": [
    {
     "data": {
      "text/plain": [
       "True"
      ]
     },
     "execution_count": 26,
     "metadata": {},
     "output_type": "execute_result"
    }
   ],
   "source": [
    "#Örnekler\n",
    "string = \"Yetgen\"\n",
    "\"Y\" in string\n"
   ]
  },
  {
   "cell_type": "code",
   "execution_count": 27,
   "metadata": {},
   "outputs": [
    {
     "data": {
      "text/plain": [
       "False"
      ]
     },
     "execution_count": 27,
     "metadata": {},
     "output_type": "execute_result"
    }
   ],
   "source": [
    "string = \"Yetgen\"\n",
    "\"P\" in string"
   ]
  },
  {
   "cell_type": "markdown",
   "metadata": {},
   "source": [
    "### Döngüler"
   ]
  },
  {
   "cell_type": "markdown",
   "metadata": {},
   "source": [
    "1-Döngüler, temel olarak verilen koşullar karşılanana kadar devam eden tekrar eden bir süreçtir.  \n",
    "\n",
    "2-Döngünün koşulu her zaman doğruysa döngü sonsuza kadar devam eder. Buna \"Sonsuz Döngü\" denir. Bu tür döngülere genellikle while döngüsünde rastlarız.  \n",
    "\n",
    "###### Not:Sonsuz döngüler bilgisayarı çalıştığı zaman yorar. Bu nedenle genelde durmasını sağlayacak bir koşul ile yazılır.  \n",
    "\n",
    "3-Eğer bir döngünün koşulu baştan yanlışsa, bu nedenle döngünün çalışmasına izin vermez. Bu döngüye \"Sıfır açma döngüsü\" denir.  "
   ]
  },
  {
   "cell_type": "markdown",
   "metadata": {},
   "source": [
    "##### For Döngüsü"
   ]
  },
  {
   "cell_type": "markdown",
   "metadata": {},
   "source": [
    "* For döngüsü, listelerin, demetlerin, stringlerin ve hatta sözcükler üzerinde dolaşmamızı sağlayan bir döngü türüdür. Yapısı şu şekildedir."
   ]
  },
  {
   "cell_type": "code",
   "execution_count": 37,
   "metadata": {},
   "outputs": [
    {
     "name": "stdout",
     "output_type": "stream",
     "text": [
      "1\n",
      "2\n",
      "3\n",
      "4\n",
      "5\n"
     ]
    }
   ],
   "source": [
    "lisT = [1,2,3,4,5]\n",
    "for i in lisT:\n",
    "    print(i)\n",
    "# i kısmı bizim verdiğimiz isim değişkenlik gösterebilir.\n"
   ]
  },
  {
   "cell_type": "code",
   "execution_count": 36,
   "metadata": {},
   "outputs": [
    {
     "name": "stdout",
     "output_type": "stream",
     "text": [
      "1\n",
      "4\n",
      "9\n",
      "16\n",
      "25\n"
     ]
    }
   ],
   "source": [
    "\n",
    "for i in lisT:\n",
    "    print(i**2) "
   ]
  },
  {
   "cell_type": "markdown",
   "metadata": {},
   "source": [
    "##### While Döngüsü"
   ]
  },
  {
   "cell_type": "markdown",
   "metadata": {},
   "source": [
    "While döngüleri belli bir koşul sağlandığı sürece bloğundaki işlemleri gerçekleştirmeye devam eder.    \n",
    "\n",
    "While döngülerinin sona ermesi için koşul durumunun bir süre sonra.      \n",
    "\n",
    "False olması gerekliir. Yapısı şu şekildedir; "
   ]
  },
  {
   "cell_type": "code",
   "execution_count": null,
   "metadata": {},
   "outputs": [],
   "source": [
    "while koşul:\n",
    "    Yapılacak İşlemler"
   ]
  },
  {
   "cell_type": "code",
   "execution_count": 1,
   "metadata": {},
   "outputs": [
    {
     "name": "stdout",
     "output_type": "stream",
     "text": [
      "Toplam : 55\n"
     ]
    }
   ],
   "source": [
    "sum = 0\n",
    "i = 1\n",
    "while i<11:\n",
    "    sum +=i \n",
    "    i += 1\n",
    "print(\"Total :\", sum)\n",
    "#i sayısı her tur 1 artarak 11 den küçük olacak şekilde toplandı.\n",
    "#1+2+3+4+5+6+7+8+9+10=55 oldu ve onu durduran kısım ise 11'den küçük olma koşulu."
   ]
  },
  {
   "cell_type": "markdown",
   "metadata": {},
   "source": [
    "#####  range() Fonksiyonu"
   ]
  },
  {
   "cell_type": "markdown",
   "metadata": {},
   "source": [
    "* range(başlangıç, bitiş, artış miktarı) şeklinde kullanılır."
   ]
  },
  {
   "cell_type": "code",
   "execution_count": 1,
   "metadata": {},
   "outputs": [
    {
     "name": "stdout",
     "output_type": "stream",
     "text": [
      "range(1, 10, 2)\n"
     ]
    }
   ],
   "source": [
    "print(range(1,10,2))"
   ]
  },
  {
   "cell_type": "code",
   "execution_count": 3,
   "metadata": {},
   "outputs": [
    {
     "name": "stdout",
     "output_type": "stream",
     "text": [
      "1\n",
      "3\n",
      "5\n",
      "7\n",
      "9\n"
     ]
    }
   ],
   "source": [
    "for x in range(1,10,2):\n",
    "    print(x)"
   ]
  },
  {
   "cell_type": "code",
   "execution_count": 4,
   "metadata": {},
   "outputs": [
    {
     "name": "stdout",
     "output_type": "stream",
     "text": [
      "0\n",
      "1\n",
      "2\n",
      "3\n",
      "4\n"
     ]
    }
   ],
   "source": [
    "for x in range(5):\n",
    "    print(x)"
   ]
  },
  {
   "cell_type": "code",
   "execution_count": 8,
   "metadata": {},
   "outputs": [
    {
     "name": "stdout",
     "output_type": "stream",
     "text": [
      "0\n",
      "10\n",
      "20\n",
      "30\n",
      "40\n",
      "50\n",
      "60\n",
      "70\n",
      "80\n",
      "90\n",
      "100\n"
     ]
    }
   ],
   "source": [
    "for x in range(0,101,10):\n",
    "    print(x)"
   ]
  },
  {
   "cell_type": "markdown",
   "metadata": {},
   "source": [
    "##### break"
   ]
  },
  {
   "cell_type": "markdown",
   "metadata": {},
   "source": [
    "* break ifadesi döngüyü sonlandırır."
   ]
  },
  {
   "cell_type": "markdown",
   "metadata": {},
   "source": [
    "##### continue"
   ]
  },
  {
   "cell_type": "markdown",
   "metadata": {},
   "source": [
    "* continue ifadesi döngünün sonraki adımına geçer."
   ]
  },
  {
   "cell_type": "code",
   "execution_count": 9,
   "metadata": {},
   "outputs": [
    {
     "name": "stdout",
     "output_type": "stream",
     "text": [
      "0\n",
      "1\n",
      "2\n",
      "3\n",
      "4\n"
     ]
    }
   ],
   "source": [
    "i = 0\n",
    "while i < 10:\n",
    "    if(i == 5):\n",
    "        break\n",
    "    else:\n",
    "        print(i)\n",
    "    i += 1"
   ]
  },
  {
   "cell_type": "code",
   "execution_count": null,
   "metadata": {},
   "outputs": [],
   "source": [
    "while True: \n",
    "    print(\"click q to exit the application\")\n",
    "    age = input(\"Age: \")\n",
    "    if(age == \"q\"):\n",
    "        break\n",
    "    else:\n",
    "        print(\"Your age:\", age)\n",
    "\n"
   ]
  },
  {
   "cell_type": "code",
   "execution_count": 1,
   "metadata": {},
   "outputs": [
    {
     "name": "stdout",
     "output_type": "stream",
     "text": [
      "0\n",
      "1\n",
      "2\n",
      "3\n",
      "4\n",
      "6\n"
     ]
    }
   ],
   "source": [
    "for i in range(7):\n",
    "    if i == 5:\n",
    "        continue\n",
    "    print(i)\n",
    "    "
   ]
  }
 ],
 "metadata": {
  "kernelspec": {
   "display_name": "Python 3",
   "language": "python",
   "name": "python3"
  },
  "language_info": {
   "codemirror_mode": {
    "name": "ipython",
    "version": 3
   },
   "file_extension": ".py",
   "mimetype": "text/x-python",
   "name": "python",
   "nbconvert_exporter": "python",
   "pygments_lexer": "ipython3",
   "version": "3.12.3"
  }
 },
 "nbformat": 4,
 "nbformat_minor": 2
}
