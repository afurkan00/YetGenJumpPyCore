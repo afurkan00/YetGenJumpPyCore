{
  "cells": [
    {
      "cell_type": "markdown",
      "metadata": {
        "id": "tsD4YVAe_Te2"
      },
      "source": [
        "# Problem 1\n",
        "Bir sayının 7'ye bölünebilir olup olmadığını kontrol etmek \n",
        "için bir program yazın.\n",
        "\n",
        "İpucu: Mod operatörünü (%) kullanabilirsiniz."
      ]
    },
    {
      "cell_type": "code",
      "execution_count": 15,
      "metadata": {
        "id": "NGjvNwKx_Te7"
      },
      "outputs": [
        {
          "name": "stdout",
          "output_type": "stream",
          "text": [
            "21 is exactly divisible by 7.\n"
          ]
        }
      ],
      "source": [
        "x = int(input(\"Enter a number:\"))\n",
        "\n",
        "control = (x %7 == 0)\n",
        "\n",
        "if control == False:\n",
        "    print(x, \"is not exactly divisible by 7.\")\n",
        "\n",
        "elif control == True:\n",
        "    print(x, \"is exactly divisible by 7.\")\n"
      ]
    },
    {
      "cell_type": "markdown",
      "metadata": {
        "id": "Kg3qiBAI_Te8"
      },
      "source": [
        "# Problem 2\n",
        "Kullanıcıdan vize ve final notu isteyin. Girilen vize notunun %40’ı ve \n",
        "girilen finalnotunun ise %60’ı alınarak yıl sonu not ortalaması hesaplanacaktır. \n",
        "\n",
        "Bu not ortalaması eğer 85 ve üzeri ise AA, \n",
        "\n",
        "75 ve 85 arasında ise BA, \n",
        "\n",
        "70 ve 75 arasında ise BB, \n",
        "\n",
        "65 ve 70 arasında ise CB,\n",
        "\n",
        "60 ve 65 arasında ise CC,\n",
        "\n",
        "55 ve 60 arasında ise DC,\n",
        "\n",
        "50 ve 55 arasında ise DD olarak hesaplanacaktır. \n",
        "\n",
        "Bu öğrencinin yıl sonu toplam notu 50’nin altında ise FF ile dersten kalacaktır. \n",
        "\n",
        "Ayrıca öğrencinin final notu 50’nin altında ise direkt FF ile kalacaktır."
      ]
    },
    {
      "cell_type": "code",
      "execution_count": 33,
      "metadata": {
        "id": "MXTtCxI1_Te8"
      },
      "outputs": [
        {
          "name": "stdout",
          "output_type": "stream",
          "text": [
            "You got DC \n",
            "Your year-end average: 59.4\n"
          ]
        }
      ],
      "source": [
        "\n",
        "midtermGrade =int(input(\"Enter your midterm grade:\"))\n",
        "finalGrade =int(input(\"Enter your final grade:\"))\n",
        "\n",
        "point =((midtermGrade*0.4 )+ (finalGrade*0.6))\n",
        "\n",
        "if 50>finalGrade:\n",
        "    print(\"You got FF \")\n",
        "\n",
        "elif 101 > point >=85:\n",
        "    print(\"You got AA \")\n",
        "\n",
        "elif 85>point>=75:\n",
        "    print(\"You got BA \")\n",
        "\n",
        "elif 75>point>=70:\n",
        "    print(\"You got BB \")\n",
        "\n",
        "elif 70>point>=65:\n",
        "    print(\"You got CB \")\n",
        "\n",
        "elif 65>point>=60:\n",
        "    print(\"You got CC \")\n",
        "\n",
        "elif 60>point>=55:\n",
        "    print(\"You got DC \")\n",
        "\n",
        "elif 55>point>=50:\n",
        "    print(\"You got DD \")\n",
        "\n",
        "elif 50>point:\n",
        "    print(\"You got FF\")\n",
        "\n",
        "print(\"Your year-end average:\", point)\n",
        "\n",
        "\n"
      ]
    },
    {
      "cell_type": "markdown",
      "metadata": {
        "id": "tAoRYCTC_Te8"
      },
      "source": [
        "# Problem 3\n",
        "İki YetGenli Zirve'de karşılaşıyorlar. Birbirlerini tanımak için sorular soruyorlar. Birbirlerine yaşlarını soruyorlar. Akıllarına bir Python programı yazıp, yaşlarını ve isimlerini giriyorlar. Büyük olanın yaşını ekrana yazdıran programı yazıyorlar. Sende bu iki YetGenli'ye destek olmak ister misin?\n",
        "\n",
        "```\n",
        "Birinci YetGenlinin ismi: Ahmet\n",
        "Birinci YetGenlinin yaşı : 20\n",
        "İkinci YetGenlinin ismi: Mehmet\n",
        "İkinci YetGenlinin yaşı : 25\n",
        "Mehmet'in yaşı daha büyük ve yaşı 25'tir.\n",
        "```"
      ]
    },
    {
      "cell_type": "code",
      "execution_count": 36,
      "metadata": {
        "id": "bPjE8W0i_Te8"
      },
      "outputs": [
        {
          "name": "stdout",
          "output_type": "stream",
          "text": [
            "Mehmet\n"
          ]
        }
      ],
      "source": [
        "name1 = input(\"Enter the 1st person's name\")\n",
        "age1 = int(input(\"1.enter the age of the person\"))\n",
        "name2 = input(\"Enter the 2nd person's name\")\n",
        "age2 = int(input(\"2.enter the age of the person\"))\n",
        "if age1>age2:\n",
        "    print(name1)\n",
        "elif age2>age1:\n",
        "    print(name2) "
      ]
    },
    {
      "cell_type": "markdown",
      "metadata": {
        "id": "zBVv8Tyg_Te9"
      },
      "source": [
        "# Problem 4\n",
        "Pandemi döneminde AVM'lerde ateş ölçümü yapılıyor. AVM'ye giren kişinin ateş ölçümü 37.5 derecenin altında ise girişe izin veriliyor. 37.5 derecenin üstünde ise girişe izin verilmiyor. AVM'ye girişe izin verilip verilmediğini ekrana yazdıran bir program yazın.\n",
        "\n",
        "Program sonunda şöyle bir çıktı elde etmelisiniz:\n",
        "\n",
        "```\n",
        "Ateşiniz 37.5 derece. AVM'ye girebilirsin! Maske takmayı unutma!\n",
        "Ateşiniz 37.6 derece. AVM'ye giremezsin! Hemen evine dön!\n",
        "```"
      ]
    },
    {
      "cell_type": "code",
      "execution_count": 39,
      "metadata": {
        "id": "TSAXs8et_Te9"
      },
      "outputs": [
        {
          "name": "stdout",
          "output_type": "stream",
          "text": [
            "Your temperature is 37.0 degrees. You can go to the mall! Don't forget to wear a mask!\n"
          ]
        }
      ],
      "source": [
        "bodyTemp = float(input(\"Enter the body temperature\"))\n",
        "if 37.5>bodyTemp:\n",
        "    print(\"Your temperature is\",bodyTemp ,\"degrees. You can go to the mall! Don't forget to wear a mask!\")\n",
        "elif bodyTemp>37.5:\n",
        "    print(\"Your temperature is\", bodyTemp ,\"degrees. You can't go to the mall! Go home now!\")"
      ]
    },
    {
      "cell_type": "markdown",
      "metadata": {
        "id": "6AEkZrDt_Te9"
      },
      "source": [
        "# Problem 5\n",
        "YetGen bir spor kulübüyle sponsorluk anlaşması yapıyor. Kulüp, sponsorluk anlaşmasına göre her YetGen liderinin beden kitle indeksini hesaplamak istiyor. Spor kulübü, beden kitle indeksini hesaplamak için YetGen Jump Python liderlerinden Berkcan ve Ahmet'i arıyor. Berkcan ve Ahmet, kulübe yardımcı olmak için bir Python programı yazıyorlar. Sende bu iki YetGen liderine destek olmak ister misin?\n",
        "\n",
        "Kullanıcıdan alınan boy ve kilo değerlerine göre beden kitle indeksini hesaplayın ve şu kurallara göre ekrana şu yazıları yazdırın.\n",
        "\n",
        "\n",
        "Beden Kitle İndeksi, kişinin ağırlığının (kg olarak) boyunun karesine (m olarak) bölünmesiyle hesaplanır. \n",
        "\n",
        "\n",
        "```\n",
        " BKİ 18.5'un altındaysa -------> Zayıf\n",
        "\n",
        " BKİ 18.5 ile 25 arasındaysa ------> Normal\n",
        "\n",
        " BKİ 25 ile 30 arasındaysa --------> Fazla Kilolu\n",
        "\n",
        " BKİ 30'un üstündeyse -------------> Obez\n",
        "```\n",
        "\n"
      ]
    },
    {
      "cell_type": "code",
      "execution_count": 45,
      "metadata": {
        "id": "t-XPI_u0_Te-"
      },
      "outputs": [
        {
          "name": "stdout",
          "output_type": "stream",
          "text": [
            "Normal\n",
            "your body mass index is 22.0\n"
          ]
        }
      ],
      "source": [
        "height = float(input(\"Write your weight in kg\"))\n",
        "weight = float(input(\"Write your height in meters\"))\n",
        "bmi = height// (weight**2)\n",
        "\n",
        "if 18.5>bmi:\n",
        "    print(\"Zayıf\")\n",
        "elif 25> bmi>=18.5:\n",
        "    print(\"Normal\")\n",
        "elif 30 > bmi>=25:\n",
        "    print(\"Fazla kilolu\")\n",
        "elif bmi>=30:\n",
        "    print(\"Obez\")\n",
        "\n",
        "print(\"your body mass index is\", bmi)"
      ]
    },
    {
      "cell_type": "markdown",
      "metadata": {
        "id": "oFsvQyaO_Te-"
      },
      "source": [
        "# Problem 6\n",
        "Kullanıcıdan isim, yaş ve eğitim bilgilerini isteyip ehliyet alabilme  durumunu kontrol ediniz. \n",
        "\n",
        "Ehliyet alma koşulu en az 18 yaşında ve eğitim durumu lise ya da üniversite olmalıdır. "
      ]
    },
    {
      "cell_type": "code",
      "execution_count": 47,
      "metadata": {
        "id": "Tu2mcgco_Te-"
      },
      "outputs": [
        {
          "name": "stdout",
          "output_type": "stream",
          "text": [
            "Ahmet can get a driver's license\n"
          ]
        }
      ],
      "source": [
        "name = input(\"Enter your name\")\n",
        "age =int(input(\"Enter your age\"))\n",
        "educationStatus = input(\"Enter your education status\")\n",
        "\n",
        "if age>=18 and educationStatus== \"High School\" or \"University\":\n",
        "    print( name ,\"can get a driver's license\")\n",
        "else:\n",
        "    print(name, \"can't get a driver's license\")\n",
        "\n"
      ]
    },
    {
      "cell_type": "markdown",
      "metadata": {
        "id": "eUkxVSAE_Te_"
      },
      "source": [
        "# Problem 7\n",
        "Bir yılın artık yıl olup olmadığını kontrol etmek için bir program yazın. \n",
        "Artık yıl kuralı:\n",
        "\n",
        "a) Eğer yılın son iki basamağı (00) ile bitmiyor ve yalnızca 4'e tam bölünüyorsa artık yıldır. Ya da, \n",
        "\n",
        "b) Eğer yıl 400'e tam bölünüyorsa artık yıldır.\n",
        "\n",
        "**Örneğin**\n",
        "```\n",
        "2017 artık yıl değildir.\n",
        "1900 artık yıl değildir\n",
        "2012 artık yıldır.\n",
        "2000 artık yıldır.\n",
        "```"
      ]
    },
    {
      "cell_type": "code",
      "execution_count": 94,
      "metadata": {
        "id": "4uWh8qUL_Te_"
      },
      "outputs": [
        {
          "name": "stdout",
          "output_type": "stream",
          "text": [
            "2000 is a leap year.\n"
          ]
        }
      ],
      "source": [
        "\n",
        "year = int(input(\"Enter year: \"))\n",
        "\n",
        "lastDigits= year % 100\n",
        "\n",
        "if (lastDigits != 0 and year % 4 == 0) or (year % 400 == 0):\n",
        "    print(year, \"is a leap year.\")\n",
        "else:\n",
        "    print(year, \"is not a leap year.\")\n",
        "\n",
        "    "
      ]
    }
  ],
  "metadata": {
    "colab": {
      "provenance": []
    },
    "kernelspec": {
      "display_name": "Python 3.10.5 64-bit",
      "language": "python",
      "name": "python3"
    },
    "language_info": {
      "codemirror_mode": {
        "name": "ipython",
        "version": 3
      },
      "file_extension": ".py",
      "mimetype": "text/x-python",
      "name": "python",
      "nbconvert_exporter": "python",
      "pygments_lexer": "ipython3",
      "version": "3.12.3"
    },
    "orig_nbformat": 4,
    "vscode": {
      "interpreter": {
        "hash": "5026d2d6e7aaaaba093def813beadff083d8733e4a511af01735cbabd156995d"
      }
    }
  },
  "nbformat": 4,
  "nbformat_minor": 0
}
