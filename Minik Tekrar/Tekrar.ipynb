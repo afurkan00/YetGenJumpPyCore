{
 "cells": [
  {
   "cell_type": "markdown",
   "metadata": {},
   "source": [
    "For ve While alıştırmaları."
   ]
  },
  {
   "cell_type": "markdown",
   "metadata": {},
   "source": [
    "1. for Döngüsü: Çift Sayıları Bulma\n",
    "1'den 20'ye kadar olan çift sayıları yazdır."
   ]
  },
  {
   "cell_type": "code",
   "execution_count": 6,
   "metadata": {},
   "outputs": [
    {
     "name": "stdout",
     "output_type": "stream",
     "text": [
      "0\n",
      "2\n",
      "4\n",
      "6\n",
      "8\n",
      "10\n",
      "12\n",
      "14\n",
      "16\n",
      "18\n",
      "20\n"
     ]
    }
   ],
   "source": [
    "for çiftler in range(0,22,2):\n",
    "    print(çiftler)"
   ]
  },
  {
   "cell_type": "markdown",
   "metadata": {},
   "source": [
    "2. for Döngüsü: Liste Elemanlarının Uzunluğunu Yazdırma\n",
    "Bir liste içindeki her kelimenin uzunluğunu yazdır."
   ]
  },
  {
   "cell_type": "code",
   "execution_count": 8,
   "metadata": {},
   "outputs": [
    {
     "name": "stdout",
     "output_type": "stream",
     "text": [
      "6\n",
      "11\n",
      "4\n",
      "5\n"
     ]
    }
   ],
   "source": [
    "kelimeler = [\"Python\", \"programlama\", \"dili\", \"kolay\"]\n",
    "for liste in kelimeler:\n",
    "    print(len(liste))"
   ]
  },
  {
   "cell_type": "markdown",
   "metadata": {},
   "source": [
    "3. while Döngüsü: Tahmin Oyunu\n",
    "Amaç: Rastgele bir sayı belirle ve kullanıcıdan bu sayıyı tahmin etmesini iste. Kullanıcı doğru tahmin edene kadar döngü devam etsin."
   ]
  },
  {
   "cell_type": "code",
   "execution_count": 16,
   "metadata": {},
   "outputs": [
    {
     "name": "stdout",
     "output_type": "stream",
     "text": [
      "Daha küçük bir sayı dene.\n",
      "Tebrikler, doğru tahmin!\n"
     ]
    }
   ],
   "source": [
    "import random\n",
    "\n",
    "sayi = random.randint(1, 10)  # 1 ile 10 arasında rastgele bir sayı seç\n",
    "tahmin = None\n",
    "\n",
    "while tahmin != sayi:\n",
    "    tahmin = int(input(\"Bir sayı tahmin et (1-10): \"))\n",
    "    if tahmin < sayi:\n",
    "        print(\"Daha büyük bir sayı dene.\")\n",
    "    elif tahmin > sayi:\n",
    "        print(\"Daha küçük bir sayı dene.\")\n",
    "    else:\n",
    "        print(\"Tebrikler, doğru tahmin!\")\n"
   ]
  },
  {
   "cell_type": "markdown",
   "metadata": {},
   "source": [
    "4. while Döngüsü: Toplama İşlemi\n",
    "Amaç: Kullanıcıdan sayılar alarak toplamaya devam et. Kullanıcı \"0\" yazdığında döngü sonlansın ve toplamı yazdır."
   ]
  },
  {
   "cell_type": "code",
   "execution_count": 17,
   "metadata": {},
   "outputs": [
    {
     "name": "stdout",
     "output_type": "stream",
     "text": [
      "Toplam: 9\n"
     ]
    }
   ],
   "source": [
    "toplam = 0\n",
    "sayi = None\n",
    "\n",
    "while sayi != 0:\n",
    "    sayi = int(input(\"Bir sayı gir (0 yazıp çıkabilirsiniz): \"))\n",
    "    toplam += sayi\n",
    "\n",
    "print(\"Toplam:\", toplam)\n"
   ]
  },
  {
   "cell_type": "markdown",
   "metadata": {},
   "source": [
    "5. for ve while Kombinasyonu\n",
    "Amaç: Bir listenin içindeki sayıların toplamı 100'ü geçene kadar sayıları topla ve toplamı yazdır.\n",
    "\n"
   ]
  },
  {
   "cell_type": "code",
   "execution_count": 18,
   "metadata": {},
   "outputs": [
    {
     "name": "stdout",
     "output_type": "stream",
     "text": [
      "Toplam: 150\n"
     ]
    }
   ],
   "source": [
    "sayilar = [10, 20, 30, 40, 50]\n",
    "toplam = 0\n",
    "i = 0\n",
    "\n",
    "while toplam <= 100 and i < len(sayilar):\n",
    "    toplam += sayilar[i]\n",
    "    i += 1\n",
    "\n",
    "print(\"Toplam:\", toplam)\n"
   ]
  },
  {
   "cell_type": "code",
   "execution_count": null,
   "metadata": {},
   "outputs": [],
   "source": []
  }
 ],
 "metadata": {
  "kernelspec": {
   "display_name": "Python 3",
   "language": "python",
   "name": "python3"
  },
  "language_info": {
   "codemirror_mode": {
    "name": "ipython",
    "version": 3
   },
   "file_extension": ".py",
   "mimetype": "text/x-python",
   "name": "python",
   "nbconvert_exporter": "python",
   "pygments_lexer": "ipython3",
   "version": "3.12.3"
  }
 },
 "nbformat": 4,
 "nbformat_minor": 2
}
