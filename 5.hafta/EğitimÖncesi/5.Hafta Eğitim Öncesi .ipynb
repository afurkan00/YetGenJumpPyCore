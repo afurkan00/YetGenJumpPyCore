{
 "cells": [
  {
   "cell_type": "markdown",
   "metadata": {},
   "source": [
    "### Bu hafta öğrenilicek kısımlar.\n",
    "List Comprehension  \n",
    "Fonksiyonlar ve Argüman  \n",
    "return, *args, **kwargs ve pass deyimi  \n",
    "Global ve Yerel Değişkenler, Lambda Gösterimi  "
   ]
  },
  {
   "cell_type": "markdown",
   "metadata": {},
   "source": [
    "#### List comprehension\n",
    "*Liste işlemlerinde kodu uzun uzun yazmak yerine tek bir satırda düzenleme imkanı sunmaktadır.\n"
   ]
  },
  {
   "cell_type": "code",
   "execution_count": 3,
   "metadata": {},
   "outputs": [
    {
     "name": "stdout",
     "output_type": "stream",
     "text": [
      "[1, 4, 9, 16, 25, 36, 49, 64, 81, 100]\n"
     ]
    }
   ],
   "source": [
    "#Klasik Yöntem\n",
    "liste = [1,2,3,4,5,6,7,8,9,10]\n",
    "yeniList = []\n",
    "for i in liste: \n",
    "    yeniList.append(i * i)\n",
    "print(yeniList)"
   ]
  },
  {
   "cell_type": "code",
   "execution_count": 9,
   "metadata": {},
   "outputs": [],
   "source": [
    "#List\n",
    "liste =[1,2,3,4,5,6,7,8,9,10]\n",
    "yeniList = [ i * i for i in liste ]\n"
   ]
  },
  {
   "cell_type": "code",
   "execution_count": 10,
   "metadata": {},
   "outputs": [
    {
     "name": "stdout",
     "output_type": "stream",
     "text": [
      "[1, 4, 9, 16, 25, 36, 49, 64, 81, 100]\n"
     ]
    }
   ],
   "source": [
    "print(yeniList)"
   ]
  },
  {
   "cell_type": "code",
   "execution_count": 14,
   "metadata": {},
   "outputs": [
    {
     "name": "stdout",
     "output_type": "stream",
     "text": [
      "[1, 2, 3, 4, 5, 6, 7, 8, 9, 10, 11, 12, 13, 14, 15]\n"
     ]
    }
   ],
   "source": [
    "liste1 = [[1,2,3],[4,5,6,7,8],[9,10,11,12,13,14,15]]\n",
    "liste2 = [x for i in liste1 for x in i]\n",
    "print(liste2)"
   ]
  },
  {
   "cell_type": "code",
   "execution_count": 15,
   "metadata": {},
   "outputs": [
    {
     "name": "stdout",
     "output_type": "stream",
     "text": [
      "[1, 2, 3, 5, 6, 7, 8, 10]\n"
     ]
    }
   ],
   "source": [
    "liste3 =[1,2,3,4,5,6,7,8,9,10]\n",
    "liste4 = [i for i in liste3 if not(i == 4 or i ==9)]\n",
    "print(liste4)"
   ]
  },
  {
   "cell_type": "markdown",
   "metadata": {},
   "source": [
    "### Fonksiyonlar\n",
    "\n",
    "* Bir kodu bir çok yerde kullanmamız gerekiyorsa, her yerde tekrar tekrar yazmayı önler. Programlamanın temeli : DRY(Don’t Repeat Yourself - Kendini tekrar etme)\n",
    "\n",
    "* Fonksiyonların içindeki değişkenler yereldir, yani bir fonksiyonun içinde bir değişken tanımladıysanız, o değişkeni fonksiyonun dışında çağıramayız. Çünkü o değişken o fonksiyona özeldir ve globalde kullanılamaz.\n",
    "\n",
    "* Ne zaman bir fonksiyon çağrılırsa, fonksiyon yazdıktan sonra yapmalısınız.\n",
    "\n",
    "Fonksiyon tanımlamanın yapısı şu şekildedir:\n"
   ]
  },
  {
   "cell_type": "code",
   "execution_count": 1,
   "metadata": {},
   "outputs": [
    {
     "name": "stdout",
     "output_type": "stream",
     "text": [
      "Hello from a function\n"
     ]
    }
   ],
   "source": [
    "def my_function():\n",
    "  print(\"Hello from a function\")\n",
    "\n",
    "my_function()"
   ]
  },
  {
   "cell_type": "markdown",
   "metadata": {},
   "source": [
    "### Argüman:\n",
    "\n",
    "- İşlev çağırılırken parantez içindeki işlevlere iletilen değerler (string, number, vb.) (ör. işlev_adı(argüman))\n",
    "\n",
    "- Eğer fonksiyon çağırırken bir argüman yoksa, bu argümanın değeri None olacaktır. Bu nedenle fonksiyonun içinde ifade edilecek bir değer yoksa, belirlenen değeri kullanmalıdır.\n",
    "\n",
    "    ```python\n",
    "    def helloWorld(name=\"ziyaretçi\"):\n",
    "        print(\"Merhaba \", name)\n",
    "    ```\n",
    "\n",
    "- Birden fazla parametre olabilir. Her biri virgülle ayrılır.\n"
   ]
  },
  {
   "cell_type": "code",
   "execution_count": 2,
   "metadata": {},
   "outputs": [
    {
     "name": "stdout",
     "output_type": "stream",
     "text": [
      "Merhaba Ziyaretiçi\n",
      "Merhaba Furkan\n"
     ]
    }
   ],
   "source": [
    "def helloWorld(name = \"Ziyaretiçi\"):\n",
    "    print(\"Merhaba\", name)\n",
    " \n",
    "helloWorld()\n",
    "helloWorld(\"Furkan\")"
   ]
  },
  {
   "cell_type": "code",
   "execution_count": 4,
   "metadata": {},
   "outputs": [
    {
     "name": "stdout",
     "output_type": "stream",
     "text": [
      "6\n"
     ]
    }
   ],
   "source": [
    "def topla(sayi1, sayi2, sayi3):\n",
    "    toplam = sayi1 + sayi2 + sayi3\n",
    "    print(toplam)\n",
    "\n",
    "topla(1,2,3)"
   ]
  },
  {
   "cell_type": "code",
   "execution_count": 10,
   "metadata": {},
   "outputs": [
    {
     "name": "stdout",
     "output_type": "stream",
     "text": [
      "Sisteme hoş geldin Furkan Kale\n",
      "Sisteme hoş geldin Ahmet Kale\n",
      "Sisteme hoş geldin Ahmet Ekici\n"
     ]
    }
   ],
   "source": [
    "def merhaba(name = \"Furkan\", surname = \"Kale\"):\n",
    "    print(\"Sisteme hoş geldin \"  + name + \" \" +surname )\n",
    "merhaba()\n",
    "merhaba(\"Ahmet\")\n",
    "merhaba(\"Ahmet\", \"Ekici\")"
   ]
  },
  {
   "cell_type": "code",
   "execution_count": 11,
   "metadata": {},
   "outputs": [
    {
     "name": "stdout",
     "output_type": "stream",
     "text": [
      "10\n",
      "6\n",
      "4\n"
     ]
    }
   ],
   "source": [
    "def carp(sayi1=1, sayi2=1, sayi3=1):\n",
    "    c = sayi1 + sayi2 + sayi3\n",
    "    print(c)\n",
    "carp(2,3,5)\n",
    "carp(2,3)\n",
    "carp(2)"
   ]
  },
  {
   "cell_type": "code",
   "execution_count": 13,
   "metadata": {},
   "outputs": [
    {
     "name": "stdout",
     "output_type": "stream",
     "text": [
      "Hola\n",
      "Bonjour\n",
      "Hello\n",
      "Merhaba\n"
     ]
    }
   ],
   "source": [
    "def merhaba(dil):\n",
    "    if dil == \"es\":\n",
    "        print(\"Hola\")\n",
    "    elif dil == \"fr\":\n",
    "        print(\"Bonjour\")\n",
    "    elif dil == \"en\":\n",
    "        print(\"Hello\")\n",
    "    else:\n",
    "        print(\"Merhaba\")\n",
    "merhaba(\"es\")\n",
    "merhaba(\"fr\")\n",
    "merhaba(\"en\")\n",
    "merhaba(\"tr\")\n"
   ]
  },
  {
   "cell_type": "code",
   "execution_count": 15,
   "metadata": {},
   "outputs": [
    {
     "name": "stdout",
     "output_type": "stream",
     "text": [
      "Hola\n",
      "Bonjour\n",
      "Hello\n",
      "Merhaba\n"
     ]
    }
   ],
   "source": [
    "def merhaba(dil):\n",
    "    if dil == \"es\":\n",
    "        print(\"Hola\")\n",
    "    elif dil == \"fr\":\n",
    "        print(\"Bonjour\")\n",
    "    elif dil == \"en\":\n",
    "        print(\"Hello\")\n",
    "    elif dil ==\"tr\":\n",
    "        print(\"Merhaba\")\n",
    "merhaba(\"es\")\n",
    "merhaba(\"fr\")\n",
    "merhaba(\"en\")\n",
    "merhaba(\"tr\")"
   ]
  },
  {
   "cell_type": "markdown",
   "metadata": {},
   "source": [
    "# return\n",
    "\n",
    "- Kodun tamamında kullanmak için işlevin kodu tamamlandıktan sonra kalan değeri (sonuç değeri) döndürür.\n",
    "- \"return\" anahtar sözcüğünden sonraki kodlar yürütülmez. Bu, görmezden gelindikleri anlamına gelir.\n",
    "- return yardımıyla fonksiyonlar değerleri çağırıldığı yere döndürebilir ve biz de bu değerleri istediğimiz yerde kullanabiliriz.  "
   ]
  },
  {
   "cell_type": "code",
   "execution_count": 18,
   "metadata": {},
   "outputs": [
    {
     "name": "stdout",
     "output_type": "stream",
     "text": [
      "3.0\n"
     ]
    }
   ],
   "source": [
    "def dikÜçgenAlanıHesapla(a, b):\n",
    "        return (a * b) / 2\n",
    "    \n",
    "alan = dikÜçgenAlanıHesapla(2, 3)\n",
    "print(alan)"
   ]
  },
  {
   "cell_type": "markdown",
   "metadata": {},
   "source": [
    "### *args \n",
    "* Sınırsız sayıda parametreli fonksiyon oluşturmak için parametremizin önüne tek yıldız(*) koyabiliriz.\n",
    "* İsimsiz argümanlardır."
   ]
  },
  {
   "cell_type": "code",
   "execution_count": 3,
   "metadata": {},
   "outputs": [
    {
     "name": "stdout",
     "output_type": "stream",
     "text": [
      "(4,)\n"
     ]
    }
   ],
   "source": [
    "def sayilar(*x):\n",
    "    print(x)\n",
    "sayilar(4)"
   ]
  },
  {
   "cell_type": "code",
   "execution_count": 22,
   "metadata": {},
   "outputs": [
    {
     "name": "stdout",
     "output_type": "stream",
     "text": [
      "(4, 5, 6, 7, 8, 9, 10)\n"
     ]
    }
   ],
   "source": [
    "sayilar(4,5,6,7,8,9,10)"
   ]
  },
  {
   "cell_type": "code",
   "execution_count": 4,
   "metadata": {},
   "outputs": [
    {
     "name": "stdout",
     "output_type": "stream",
     "text": [
      "55\n"
     ]
    }
   ],
   "source": [
    "def topla(*z):\n",
    "    toplam = 0\n",
    "    for i in z:\n",
    "        toplam += i \n",
    "    print(toplam)\n",
    "    \n",
    "\n",
    "topla(1,2,3,4,5,6,7,8,9,10)  "
   ]
  },
  {
   "cell_type": "markdown",
   "metadata": {},
   "source": [
    "### **kwargs\n",
    "* Çift yıldızlı(**) parametreleri tek yıldızlı (*) parametrelerden en önemli farkı, fonksiyonu çağırırken anahtar değer ilişkisiyle çağırabilmemizdir.\n",
    "* İsimli argümanlardır."
   ]
  },
  {
   "cell_type": "code",
   "execution_count": 27,
   "metadata": {},
   "outputs": [
    {
     "name": "stdout",
     "output_type": "stream",
     "text": [
      "{'adi': 'Furkan', 'soyadi': 'Kale', 'yas': 21}\n"
     ]
    }
   ],
   "source": [
    "def kimlikGoster(**kimlik):\n",
    "    print(kimlik)\n",
    "kimlikGoster(adi = \"Furkan\", soyadi = \"Kale\", yas = 21)\n"
   ]
  },
  {
   "cell_type": "code",
   "execution_count": 29,
   "metadata": {},
   "outputs": [
    {
     "name": "stdout",
     "output_type": "stream",
     "text": [
      "10\n",
      "(20, 30, 40, 50)\n",
      "6\n",
      "{'adi': 'Furkan', 'soyadi': 'Kale', 'yas': 21}\n"
     ]
    }
   ],
   "source": [
    "def ornek(a, *sayilar, b,**kimlik):\n",
    "    print(a)\n",
    "    print(sayilar)\n",
    "    print(b)\n",
    "    print(kimlik)\n",
    "ornek(10,20,30,40,50, b = 6, adi = \"Furkan\", soyadi = \"Kale\", yas =21)"
   ]
  },
  {
   "cell_type": "markdown",
   "metadata": {},
   "source": [
    "### Pass Deyimi\n",
    "* Python programlamasında pass ifadesi null değer atama için kullanılır. Python'daki bir açıklama ve geçiş ifadesi arasındaki fark, yorumlayıcı bir yorumu tamamen yok sayerken, geçişin göz ardı edilmemesidir."
   ]
  },
  {
   "cell_type": "code",
   "execution_count": null,
   "metadata": {},
   "outputs": [],
   "source": [
    "def carp(*sayilar):\n",
    "    for sayi in sayilar:\n",
    "        pass\n",
    "carp(2,5)"
   ]
  },
  {
   "cell_type": "markdown",
   "metadata": {},
   "source": [
    "# Global ve Yerel Değişkenler\n",
    "\n",
    "- Global değişken fonksiyonlarımızın dışında tanımladığımız değişkenlerdir.\n",
    "- Yerel değişkenler ise fonksiyon içinde kullandığımız değişkenlerdir.\n",
    "- Fonksiyonun dışında tanımladığımız fonksiyonların içinde kullanılırken, fonksiyonların içinde tanımladığımız değişkenler fonksiyon dışında kullanılamaz.  "
   ]
  },
  {
   "cell_type": "code",
   "execution_count": 37,
   "metadata": {},
   "outputs": [
    {
     "name": "stdout",
     "output_type": "stream",
     "text": [
      "5\n",
      "5\n"
     ]
    }
   ],
   "source": [
    "def yazdır3():\n",
    "    global x\n",
    "    x = 5\n",
    "    print(x)\n",
    "yazdır3()\n",
    "print(x) "
   ]
  },
  {
   "cell_type": "markdown",
   "metadata": {},
   "source": [
    "### Lambda Gösterimi\n",
    "* Pythonda isimsiz olarak tanımladığımız fonksiyonlara lambda fonksiyonları denir.\n",
    "* Tek satırda yazılırlar.\n",
    "* Gösterimi \n",
    "```python\n",
    "fonksiyonAdi = lambda parametreler : yapılacakIslem\n",
    "```\n"
   ]
  },
  {
   "cell_type": "code",
   "execution_count": 38,
   "metadata": {},
   "outputs": [
    {
     "data": {
      "text/plain": [
       "3.0"
      ]
     },
     "execution_count": 38,
     "metadata": {},
     "output_type": "execute_result"
    }
   ],
   "source": [
    "dikUcgenAlanHesapla = lambda a,b : a*b/2\n",
    "dikUcgenAlanHesapla (2,3)"
   ]
  },
  {
   "cell_type": "code",
   "execution_count": 39,
   "metadata": {},
   "outputs": [
    {
     "name": "stdout",
     "output_type": "stream",
     "text": [
      "4\n"
     ]
    }
   ],
   "source": [
    "ikiyleCarp = lambda x : print( x + 2)\n",
    "ikiyleCarp(2)"
   ]
  },
  {
   "cell_type": "code",
   "execution_count": 44,
   "metadata": {},
   "outputs": [
    {
     "name": "stdout",
     "output_type": "stream",
     "text": [
      "nakruf\n"
     ]
    }
   ],
   "source": [
    "ters = lambda s : s [::-1]\n",
    "print(ters(\"furkan\"))"
   ]
  }
 ],
 "metadata": {
  "kernelspec": {
   "display_name": "Python 3",
   "language": "python",
   "name": "python3"
  },
  "language_info": {
   "codemirror_mode": {
    "name": "ipython",
    "version": 3
   },
   "file_extension": ".py",
   "mimetype": "text/x-python",
   "name": "python",
   "nbconvert_exporter": "python",
   "pygments_lexer": "ipython3",
   "version": "3.12.3"
  }
 },
 "nbformat": 4,
 "nbformat_minor": 2
}
