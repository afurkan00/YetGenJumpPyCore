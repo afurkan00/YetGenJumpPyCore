{
 "cells": [
  {
   "cell_type": "markdown",
   "metadata": {},
   "source": [
    "# Problem 1\n",
    "`ogrenciler` adında bir sözlük oluşturunuz. Kullanıcıdan döngü yardımıyla 3 öğrenci için veri girmesini isteyerek öğrencilerin sırasıyla okul numarası, isim, soy isim, telefon numarası ve doğum tarihi bilgilerini alınız. Aldığınız öğrenci bilgilerini yine aynı döngü yardımıyla `ogrenciler` adındaki sözlükte saklayınız. Daha sonra öğrenci bilgilerinin bulunduğu sözlük yapısını ekrana bastırınız.\n",
    "\n"
   ]
  },
  {
   "cell_type": "code",
   "execution_count": 12,
   "metadata": {},
   "outputs": [
    {
     "name": "stdout",
     "output_type": "stream",
     "text": [
      "Girilen Öğrenci Bilgileri:\n",
      "Okul No: 24\n",
      "İsim: furkan\n",
      "Soyisim: kale\n",
      "Telefon No: 5396769044\n",
      "Doğum Tarihi: 26.06.2003\n",
      "--------------------\n",
      "Okul No: 20\n",
      "İsim: necati\n",
      "Soyisim: yılmaz\n",
      "Telefon No: 5336518945\n",
      "Doğum Tarihi: 12.04.2004\n",
      "--------------------\n",
      "Okul No: 19\n",
      "İsim: nur\n",
      "Soyisim: aydın\n",
      "Telefon No: 5354519045\n",
      "Doğum Tarihi: 04.02.2003\n",
      "--------------------\n"
     ]
    }
   ],
   "source": [
    "\n",
    "\n",
    "ogrenciler = {}\n",
    "\n",
    "num_students = int(input(\"Kaç öğrenci bilgisi gireceksiniz? \"))\n",
    "\n",
    "for i in range(num_students):\n",
    "    user_input = input(f\"Öğrenci {i+1} bilgilerini şu formatta girin: okul_no isim soyisim telefon_no dogum_tarihi: \")\n",
    "    okul_no, isim, soyisim, telefon_no, dogum_tarihi = user_input.split()\n",
    "\n",
    "    ogrenci_bilgileri = {\n",
    "        \"isim\": isim,\n",
    "        \"soyisim\": soyisim,\n",
    "        \"telefon_no\": telefon_no,\n",
    "        \"dogum_tarihi\": dogum_tarihi\n",
    "    }\n",
    "\n",
    "    ogrenciler[okul_no] = ogrenci_bilgileri\n",
    "\n",
    "print(\"Girilen Öğrenci Bilgileri:\")\n",
    "for okul_no, bilgiler in ogrenciler.items():\n",
    "    print(f\"Okul No: {okul_no}\")\n",
    "    print(f\"İsim: {bilgiler['isim']}\")\n",
    "    print(f\"Soyisim: {bilgiler['soyisim']}\")\n",
    "    print(f\"Telefon No: {bilgiler['telefon_no']}\")\n",
    "    print(f\"Doğum Tarihi: {bilgiler['dogum_tarihi']}\")\n",
    "    print(\"-\" * 20)\n"
   ]
  },
  {
   "cell_type": "markdown",
   "metadata": {},
   "source": [
    "# Problem 2\n",
    "\n",
    "### a - Biraz ısınarak başlayalım!\n",
    "\n",
    "```\n",
    "numbers = [5,10,10,15,15,15,20,20,20,20]\n",
    "```\n",
    "\n",
    "Yukarıda `numbers` adında 10 elemanlı bir liste verilmiştir. Bu listenin her elemanını kontrol eden ve tekrar eden elemanları bir kez olacak şekilde başka bir listeye kopyalayan bir program yazınız. Son olarak oluşturduğunuz listeyi ekrana bastırınız.\n",
    "\n",
    "\n",
    "\n",
    "\n",
    "```\n",
    ">Output\n",
    "[5, 10, 15, 20]\n",
    "```\n"
   ]
  },
  {
   "cell_type": "code",
   "execution_count": 3,
   "metadata": {},
   "outputs": [
    {
     "name": "stdout",
     "output_type": "stream",
     "text": [
      "[5, 10, 15, 20]\n"
     ]
    }
   ],
   "source": [
    "\n",
    "# Acil durumlarda çözüm için aşağıdaki kodu kullanabilirsiniz.\n",
    "numbers = [5, 10, 10, 15, 15, 15, 20, 20, 20]\n",
    "# Yöntem1: unique adında bir değişken oluşturup boş bir liste ekleyelim.\n",
    "unique = []\n",
    "# Yöntem2: numbers listesini gezelim.\n",
    "for number in numbers:\n",
    "    # Yöntem3: unique içinde o sayı varsa o sayıyı atlayalım.\n",
    "    if number in unique:\n",
    "        continue\n",
    "    # Yöntem4: unique içinde o sayı yoksa listeye o sayıyı ekleyelim.\n",
    "    else:\n",
    "        unique.append(number)\n",
    "# Yöntem5: unique listesini ekrana yazdıralım.\n",
    "print(unique)\n",
    "\n"
   ]
  },
  {
   "cell_type": "markdown",
   "metadata": {},
   "source": [
    "### 🌶️ b) Hadi işi biraz daha zorlaştıralım! \n",
    "\n",
    "\n",
    "Şimdiyse senden `numbers` isimli listedeki tekrar eden elemanları `repeatNumbers` adındaki listeye; tekrar etmeyen elemanları `uniqueNumbers`adındaki listeye kopyalayan yazmanı ve listeleri ekrana bastırmanı bekliyoruz\n",
    "\n",
    "```\n",
    ">Output\n",
    "Tekrar Eden Elemanlar: [10, 10, 15, 15, 15, 20, 20, 20, 20]\n",
    "Tekrar Etmeyen Elemanlar: [5]\n",
    "```"
   ]
  },
  {
   "cell_type": "code",
   "execution_count": 5,
   "metadata": {},
   "outputs": [
    {
     "name": "stdout",
     "output_type": "stream",
     "text": [
      "Tekrar Eden Elemanlar :  [10, 15, 20]\n",
      "Tekrar Etmeyen Elemanlar :  [5]\n"
     ]
    }
   ],
   "source": [
    "numbers = [5, 10, 10, 15, 15, 15, 20, 20, 20, 20]\n",
    "unique = []\n",
    "repeat = []\n",
    "\n",
    "for number in numbers:\n",
    "    if numbers.count(number) == 1:\n",
    "        unique.append(number)\n",
    "    else:\n",
    "        if number not in repeat:  # Bu sayıyı tekrar listesine yalnızca bir kez eklemek için kontrol ekleyelim.\n",
    "            repeat.append(number)\n",
    "\n",
    "print(\"Tekrar Eden Elemanlar : \", repeat)\n",
    "print(\"Tekrar Etmeyen Elemanlar : \", unique)"
   ]
  },
  {
   "cell_type": "markdown",
   "metadata": {},
   "source": [
    "# Problem 3\n",
    "sn1 = {1,2,3,4,5}\n",
    "\n",
    "sn2 = {4,5,6,7,8}\n",
    "\n",
    " Verilen 2 adet küme için kesişimlerini, farklarını ve birleşimlerini bulunuz. "
   ]
  },
  {
   "cell_type": "code",
   "execution_count": 6,
   "metadata": {},
   "outputs": [
    {
     "name": "stdout",
     "output_type": "stream",
     "text": [
      "{4, 5}\n"
     ]
    }
   ],
   "source": [
    "sn1 = {1,2,3,4,5}\n",
    "sn2 = {4,5,6,7,8}\n",
    "kesisim = sn1.intersection(sn2)\n",
    "print(kesisim)"
   ]
  },
  {
   "cell_type": "code",
   "execution_count": 7,
   "metadata": {},
   "outputs": [
    {
     "name": "stdout",
     "output_type": "stream",
     "text": [
      "{1, 2, 3, 4, 5, 6, 7, 8}\n"
     ]
    }
   ],
   "source": [
    "sn1 = {1,2,3,4,5}\n",
    "sn2 = {4,5,6,7,8}\n",
    "birlesim = sn1.update(sn2)\n",
    "print(sn1)\n"
   ]
  },
  {
   "cell_type": "code",
   "execution_count": 15,
   "metadata": {},
   "outputs": [
    {
     "name": "stdout",
     "output_type": "stream",
     "text": [
      "{1, 2, 3}\n",
      "{8, 6, 7}\n"
     ]
    }
   ],
   "source": [
    "#Farkı için çözüm 1\n",
    "sn1 = {1, 2, 3, 4, 5}\n",
    "sn2 = {4, 5, 6, 7, 8}\n",
    "\n",
    "fark1 = sn1.difference(sn2)\n",
    "fark2 = sn2.difference(sn1)\n",
    "\n",
    "print(fark1)\n",
    "print(fark2)\n"
   ]
  },
  {
   "cell_type": "code",
   "execution_count": null,
   "metadata": {},
   "outputs": [],
   "source": [
    "# Farkı için çözüm 2\n",
    "sn1 = {1, 2, 3, 4, 5}\n",
    "sn2 = {4, 5, 6, 7, 8}\n",
    "\n",
    "fark1 = sn1 - sn2\n",
    "fark2 = sn2 - sn1\n",
    "\n",
    "print(fark1)\n",
    "print(fark2)\n"
   ]
  },
  {
   "cell_type": "markdown",
   "metadata": {},
   "source": [
    "# Problem 4\n",
    "\n",
    "Buradaki işlemlerimizin tamamı stringler içindir. Aşağıda verilecek olan metodlar için kendinizin örnek yaratması gerekmektedir. \n",
    "\n",
    "Örneğin `upper` için `string` değişkeni oluştururken` k = \"BAC\"` şeklinde oluşturmayınız. Bunun yerine k değişkenini `k = \"bac`\" şeklinde oluşturmanız `upper` metodundaki değişimi görebilmeniz için daha iyi olacaktır.\n",
    "\n",
    "Bütün metodlardaki değişimin gözle görülür şekilde değişimi beklenmektedir.\n",
    "\n",
    "\n",
    "1- capitalize(), lower(), upper(), swapcase(), title(), replace()\n",
    "\n",
    "2- endswith(), startswith(), find(), index(), count()\n",
    "\n",
    "3- split(), strip(), join(), islower(), isalpha(), isdigit()\n",
    "\n",
    "\n",
    "Yukarıdaki `string` metodlarındaki değişimleri görebildiğimiz bir program yazınız.\n"
   ]
  },
  {
   "cell_type": "code",
   "execution_count": 12,
   "metadata": {},
   "outputs": [
    {
     "name": "stdout",
     "output_type": "stream",
     "text": [
      "Yetgen jump ile python öğreniyorum\n",
      "yetgen jump ile python öğreniyorum\n",
      "YETGEN JUMP ILE PYTHON ÖĞRENIYORUM\n",
      "yETgEN jUMP ILE pYTHON ÖĞRENIYORUM\n",
      "Yetgen Jump Ile Python Öğreniyorum\n",
      "YetGen Jump ve Python öğreniyorum\n",
      "\n"
     ]
    }
   ],
   "source": [
    "#1\n",
    "k = \"YetGen Jump ile Python öğreniyorum\"\n",
    "\n",
    "print(k.capitalize())\n",
    "\n",
    "print(k.lower())\n",
    "\n",
    "print(k.upper())\n",
    "\n",
    "print(k.swapcase())\n",
    "\n",
    "print(k.title())\n",
    "\n",
    "print(k.replace(\"ile\", \"ve\"))"
   ]
  },
  {
   "cell_type": "code",
   "execution_count": 17,
   "metadata": {},
   "outputs": [
    {
     "name": "stdout",
     "output_type": "stream",
     "text": [
      "endswith('öğreniyorum'): True\n",
      "startswith('YetGen'): True\n",
      "find('Python'): 16\n",
      "index('Python'): 16\n",
      "count('e'): 4\n"
     ]
    }
   ],
   "source": [
    "#2\n",
    "k = \"YetGen Jump ile Python öğreniyorum\"\n",
    "print(\"endswith('öğreniyorum'):\", k.endswith('öğreniyorum'))\n",
    "print(\"startswith('YetGen'):\", k.startswith('YetGen'))\n",
    "print(\"find('Python'):\", k.find('Python'))\n",
    "print(\"index('Python'):\", k.index('Python'))\n",
    "print(\"count('e'):\", k.count('e'))\n",
    "\n"
   ]
  },
  {
   "cell_type": "code",
   "execution_count": 20,
   "metadata": {},
   "outputs": [
    {
     "name": "stdout",
     "output_type": "stream",
     "text": [
      "split(): ['YetGen', 'Jump', 'ile', 'Python', 'öğreniyorum']\n",
      "strip(): YetGen Jump ile Python öğreniyorum\n",
      "join(['YetGen', 'Jump', 'Python']): YetGen Jump Python\n",
      "islower(): False\n",
      "isalpha(): True\n",
      "isdigit(): False\n"
     ]
    }
   ],
   "source": [
    "\n",
    "#3\n",
    "k = \"YetGen Jump ile Python öğreniyorum\"\n",
    "print(\"split():\", k.split(\" \"))\n",
    "print(\"strip():\", k.strip())\n",
    "print(\"join(['YetGen', 'Jump', 'Python']):\", ' '.join(['YetGen', 'Jump', 'Python']))\n",
    "print(\"islower():\", k.islower())\n",
    "print(\"isalpha():\", \"Python\".isalpha()) # string'in sadece alfabetik karakterler (harfler) içerip içermediğini kontrol eder.  \n",
    "print(\"isdigit():\", k.isdigit()) # string'in sadece rakamlardan (0-9) oluşup oluşmadığını kontrol eder. Eğer string sadece rakamlardan oluşuyorsa True değilse False basar."
   ]
  }
 ],
 "metadata": {
  "kernelspec": {
   "display_name": "Python 3.10.5 64-bit",
   "language": "python",
   "name": "python3"
  },
  "language_info": {
   "codemirror_mode": {
    "name": "ipython",
    "version": 3
   },
   "file_extension": ".py",
   "mimetype": "text/x-python",
   "name": "python",
   "nbconvert_exporter": "python",
   "pygments_lexer": "ipython3",
   "version": "3.12.3"
  },
  "orig_nbformat": 4,
  "vscode": {
   "interpreter": {
    "hash": "5026d2d6e7aaaaba093def813beadff083d8733e4a511af01735cbabd156995d"
   }
  }
 },
 "nbformat": 4,
 "nbformat_minor": 2
}
