{
 "cells": [
  {
   "cell_type": "markdown",
   "metadata": {},
   "source": [
    "### Bu hafta öğrenilicek kısımlar.\n",
    "Nesne Yönelimli Programlama Method Kullanımı  \n",
    "Inheritance  \n"
   ]
  },
  {
   "cell_type": "markdown",
   "metadata": {},
   "source": [
    "### Methotlar\n",
    "Sınıfların içinde tanımlanan, nesnelerin davranışlarını belirleyen fonksiyonlardır.  \n"
   ]
  },
  {
   "cell_type": "code",
   "execution_count": 5,
   "metadata": {},
   "outputs": [],
   "source": [
    "class Yazilimci(): \n",
    "    def __init__(self,isim,soyisim,numara,maas,diller):\n",
    "        self.isim = isim\n",
    "        self.soyisim = soyisim\n",
    "        self.numara = numara\n",
    "        self.maas = maas \n",
    "        self.diller = diller\n",
    "    \n",
    "    def bilgileri_goster(self):\n",
    "        print(f\"\"\"\n",
    "        Çalışan bilgisi:\n",
    "              İsim: {self.isim }\n",
    "              Soyisim:{self.soyisim}\n",
    "              Numara:{self.numara}\n",
    "              Maaş:{self.maas}\n",
    "              Bildiği diller:{self.diller}       \n",
    "        \"\"\")\n",
    "    def dil_ekle(self, yeni_dil):\n",
    "        print(\"Dil eklendi\")\n",
    "        self.diller.append(yeni_dil)\n",
    "    \n",
    "    def maas_yukseltme(self, zam):\n",
    "        print(\"Zam yapılıyor\")\n",
    "        self.maas +=250\n"
   ]
  },
  {
   "cell_type": "code",
   "execution_count": 8,
   "metadata": {},
   "outputs": [],
   "source": [
    "yazilimci = Yazilimci(\"Furkan\",\"Kale\",12345, 10000, [\"Python\", \"C++\",\"jS\"])"
   ]
  },
  {
   "cell_type": "code",
   "execution_count": 10,
   "metadata": {},
   "outputs": [
    {
     "name": "stdout",
     "output_type": "stream",
     "text": [
      "\n",
      "        Çalışan bilgisi:\n",
      "              İsim: Furkan\n",
      "              Soyisim:Kale\n",
      "              Numara:12345\n",
      "              Maaş:10000\n",
      "              Bildiği diller:['Python', 'C++', 'jS']       \n",
      "        \n"
     ]
    }
   ],
   "source": [
    "yazilimci.bilgileri_goster()"
   ]
  },
  {
   "cell_type": "code",
   "execution_count": 12,
   "metadata": {},
   "outputs": [
    {
     "name": "stdout",
     "output_type": "stream",
     "text": [
      "Zam yapılıyor\n"
     ]
    }
   ],
   "source": [
    "yazilimci.maas_yukseltme(250)"
   ]
  },
  {
   "cell_type": "code",
   "execution_count": 13,
   "metadata": {},
   "outputs": [
    {
     "name": "stdout",
     "output_type": "stream",
     "text": [
      "\n",
      "        Çalışan bilgisi:\n",
      "              İsim: Furkan\n",
      "              Soyisim:Kale\n",
      "              Numara:12345\n",
      "              Maaş:10250\n",
      "              Bildiği diller:['Python', 'C++', 'jS']       \n",
      "        \n"
     ]
    }
   ],
   "source": [
    "yazilimci.bilgileri_goster()"
   ]
  },
  {
   "cell_type": "markdown",
   "metadata": {},
   "source": [
    "Inheritance  \n",
    "- Bir sınıfın özelliklerinin ve metotlarının başka sınıflara aktarılarak işlevinin artırılmasını sağlar.\n",
    "- Mesela öğrenci ve öğretmeni düşündüğümüz zaman öğrencinin adı, soyadı, adresi, cinsiyeti ve numarası vardır. Öğretmeninse ad, soyad, adres, cinsiyet ve branşı vardır. Bunun yerine kişi sınıfı oluşturup ad, soyad, adres ve cinsiyet tutulur.\n",
    "- Öğrenci ve öğretmen classında ise öğrenciye veya öğretmene özgü özellikler ve metotlar tutulur.\n",
    "- `super()` en genel anlamıyla miras aldığımız sınıfın metotlarını alt sınıflardan kullanmamızı sağlar.\n",
    "- `super().init()` metodu çalışırken sınıfın özelliklerini ve metotlarını kullanılır.\n",
    "- Base Class ana sınıftır."
   ]
  },
  {
   "cell_type": "code",
   "execution_count": 20,
   "metadata": {},
   "outputs": [
    {
     "name": "stdout",
     "output_type": "stream",
     "text": [
      "Kişi nesnesi üretildi\n",
      "Furkan Kale 23\n"
     ]
    }
   ],
   "source": [
    "class Person(): \n",
    "    def __init__(self,isim,soyisim,yaş):\n",
    "        self.isim = isim\n",
    "        self.soyisim = soyisim\n",
    "        self.yaş = yaş\n",
    "        print(\"Kişi nesnesi üretildi\") \n",
    "    def intro(self):\n",
    "        print(self.isim,self.soyisim,self.yaş)\n",
    "\n",
    "class Student(Person):\n",
    "    def __init__(self,isim,soyisim,yaş,numara):\n",
    "        super(). __init__(isim, soyisim, yaş) #Bilgileri üstten çekiyoruz\n",
    "        self.numara = numara\n",
    "        print(\"Öğrenci nesnesi çalıştı\")\n",
    "    \n",
    "    def intro(self):\n",
    "        print(self.isim,self.soyisim,self.yaş ,self.numara)\n",
    "    def study(self):\n",
    "        print(f\"{self.numara} numaralı öğrenci ders çalışıyor\")\n",
    "\n",
    "class Teacher(Person):\n",
    "    def __init__(self, isim, soyisim, yaş, bölüm):\n",
    "        super().__init__(isim,soyisim,yaş)\n",
    "        self.bölüm = bölüm\n",
    "        print(\"Öğretmen nesnesi çalıştı\")\n",
    "    def teach(self):\n",
    "        print(f\"{self.isim} isimli öğretmen {self.bölüm} dersine girmektedir.\")\n",
    "\n",
    "    p1 = Person(\"Furkan\",\"Kale\",23)\n",
    "    p1.intro()\n",
    "    \n"
   ]
  },
  {
   "cell_type": "code",
   "execution_count": 23,
   "metadata": {},
   "outputs": [
    {
     "name": "stdout",
     "output_type": "stream",
     "text": [
      "Kişi nesnesi üretildi\n",
      "Öğrenci nesnesi çalıştı\n",
      "YetGen Jump 20 1001\n",
      "1001 numaralı öğrenci ders çalışıyor\n"
     ]
    }
   ],
   "source": [
    "s1 = Student(\"YetGen\", \"Jump\",20,1001)\n",
    "s1.intro()\n",
    "s1.study()"
   ]
  },
  {
   "cell_type": "code",
   "execution_count": 24,
   "metadata": {},
   "outputs": [
    {
     "name": "stdout",
     "output_type": "stream",
     "text": [
      "Kişi nesnesi üretildi\n",
      "Öğretmen nesnesi çalıştı\n",
      "Ahmet Kaya 30\n",
      "Ahmet isimli öğretmen Bilgisayar dersine girmektedir.\n"
     ]
    }
   ],
   "source": [
    "t1 = Teacher(\"Ahmet\", \"Kaya\", 30, \"Bilgisayar\")\n",
    "t1.intro()\n",
    "t1.teach()"
   ]
  },
  {
   "cell_type": "code",
   "execution_count": null,
   "metadata": {},
   "outputs": [],
   "source": []
  }
 ],
 "metadata": {
  "kernelspec": {
   "display_name": "Python 3",
   "language": "python",
   "name": "python3"
  },
  "language_info": {
   "codemirror_mode": {
    "name": "ipython",
    "version": 3
   },
   "file_extension": ".py",
   "mimetype": "text/x-python",
   "name": "python",
   "nbconvert_exporter": "python",
   "pygments_lexer": "ipython3",
   "version": "3.12.3"
  }
 },
 "nbformat": 4,
 "nbformat_minor": 2
}
