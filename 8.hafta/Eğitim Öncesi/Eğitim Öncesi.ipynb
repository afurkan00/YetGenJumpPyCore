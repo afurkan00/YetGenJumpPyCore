{
 "cells": [
  {
   "cell_type": "markdown",
   "metadata": {},
   "source": [
    "### Bu hafta öğrenilicek kısımlar.\n",
    "Dosya İşlemleri  \n",
    "Nesne Yönelimli Programlama  \n"
   ]
  },
  {
   "cell_type": "markdown",
   "metadata": {},
   "source": [
    "#### Dosya Okuma İşlemleri\n",
    "Dosya açmk ve oluşturmak için open() kullanılır.  \n",
    "``` python \n",
    "open(dosyaIsmi, dosyaModu)  \n",
    "dosyaModu: Dosyayı hangi modda açacağını belirtir.  \n",
    "r: Okuma modunda açmayı sağlar. Belirtilen konumda dosya olması gerekir.  \n",
    "close(): Dosyayı kapatır.  \n",
    "\n"
   ]
  },
  {
   "cell_type": "code",
   "execution_count": 30,
   "metadata": {},
   "outputs": [
    {
     "name": "stdout",
     "output_type": "stream",
     "text": [
      "<_io.TextIOWrapper name='bilgiler.txt' mode='r' encoding='cp1254'>\n"
     ]
    }
   ],
   "source": [
    "f = open(\"bilgiler.txt\")\n",
    "print(f)"
   ]
  },
  {
   "cell_type": "code",
   "execution_count": 31,
   "metadata": {},
   "outputs": [
    {
     "name": "stdout",
     "output_type": "stream",
     "text": [
      "Ben bu dosyayı bulamadım\n"
     ]
    }
   ],
   "source": [
    "try:\n",
    "    file = open(\"bilgiler2.txt\",  \"r\",encoding=\"utf-8\")\n",
    "except:\n",
    "    print(\"Ben bu dosyayı bulamadım\")"
   ]
  },
  {
   "cell_type": "code",
   "execution_count": 32,
   "metadata": {},
   "outputs": [
    {
     "name": "stdout",
     "output_type": "stream",
     "text": [
      "YetGen \n",
      "\n",
      "Jump\n",
      "\n",
      "Python\n",
      "\n",
      "2\n",
      "\n"
     ]
    }
   ],
   "source": [
    "file = open(\"bilgiler.txt\", \"r\",encoding=\"utf-8\")\n",
    "\n",
    "for i in file:\n",
    "    print(i)\n",
    "file.close()\n"
   ]
  },
  {
   "cell_type": "markdown",
   "metadata": {},
   "source": [
    "#### read() Fonksiyonu\n",
    "``` python \n",
    "read() foknsiyonu eğer içine hiç bir değer vermezsek bütün dosyamızı okuyacaktır.  "
   ]
  },
  {
   "cell_type": "code",
   "execution_count": 33,
   "metadata": {},
   "outputs": [
    {
     "name": "stdout",
     "output_type": "stream",
     "text": [
      "1.okuma dosyası içeriği\n",
      " YetGen \n",
      "Jump\n",
      "Python\n",
      "2\n",
      "\n",
      "2.okuma dosyası içeriği\n",
      " YetGen \n",
      "Jump\n",
      "Python\n",
      "2\n",
      "\n"
     ]
    }
   ],
   "source": [
    "file = open(\"bilgiler.txt\",\"r\",encoding=\"utf-8\")\n",
    "icerik =file.read()\n",
    "print(\"1.okuma dosyası içeriği\\n\", icerik , sep= \" \")\n",
    "icerik2 =file.read()\n",
    "print(\"2.okuma dosyası içeriği\\n\", icerik , sep= \" \")\n",
    "file.close()"
   ]
  },
  {
   "cell_type": "markdown",
   "metadata": {},
   "source": [
    "``` python \n",
    "read() fonksiyonuyla bir dosyayı okuduğumuzda dosya imlecimiz dosyanın en sonuna gider ve read() fonksiyonu 2.okuma da artık boş string döner."
   ]
  },
  {
   "cell_type": "markdown",
   "metadata": {},
   "source": [
    "#### readline() Fonksiyonu  \n",
    "``` python\n",
    "Her çalıştırdında bir satır okur.-->print(file.readline())    "
   ]
  },
  {
   "cell_type": "code",
   "execution_count": 34,
   "metadata": {},
   "outputs": [
    {
     "name": "stdout",
     "output_type": "stream",
     "text": [
      "YetGen \n",
      "\n"
     ]
    }
   ],
   "source": [
    "file = open(\"bilgiler.txt\",\"r\",encoding=\"utf-8\")\n",
    "print(file.readline())"
   ]
  },
  {
   "cell_type": "code",
   "execution_count": 35,
   "metadata": {},
   "outputs": [
    {
     "name": "stdout",
     "output_type": "stream",
     "text": [
      "Jump\n",
      "\n"
     ]
    }
   ],
   "source": [
    "print(file.readline())"
   ]
  },
  {
   "cell_type": "code",
   "execution_count": 36,
   "metadata": {},
   "outputs": [
    {
     "name": "stdout",
     "output_type": "stream",
     "text": [
      "Python\n",
      "\n"
     ]
    }
   ],
   "source": [
    "print(file.readline())"
   ]
  },
  {
   "cell_type": "code",
   "execution_count": 37,
   "metadata": {},
   "outputs": [
    {
     "name": "stdout",
     "output_type": "stream",
     "text": [
      "2\n",
      "\n"
     ]
    }
   ],
   "source": [
    "print(file.readline())"
   ]
  },
  {
   "cell_type": "markdown",
   "metadata": {},
   "source": [
    "``` python \n",
    "readlines() fonksiyonu dosyasının bütün satırları bir liste şeklinde döner."
   ]
  },
  {
   "cell_type": "code",
   "execution_count": 38,
   "metadata": {},
   "outputs": [
    {
     "name": "stdout",
     "output_type": "stream",
     "text": [
      "['YetGen \\n', 'Jump\\n', 'Python\\n', '2\\n']\n"
     ]
    }
   ],
   "source": [
    "file = open(\"bilgiler.txt\",\"r\",encoding=\"utf-8\")\n",
    "print(file.readlines()) # Dosyadaki bütün hepsini liste olarak verir."
   ]
  },
  {
   "cell_type": "markdown",
   "metadata": {},
   "source": [
    "### Dosya Yazma \n",
    "w: Yazma modu. Dosyayı konumda oluşturur. Eğer dosya mevcut ise, dosyayı siler ve yeni bir dosya oluşturur. Write fonksiyonu ile dosyamıza yazıyoruz."
   ]
  },
  {
   "cell_type": "code",
   "execution_count": 40,
   "metadata": {},
   "outputs": [],
   "source": [
    "file = open(\"bilgiler.txt\", \"w\",encoding=\"utf-8\")\n",
    "file.write(\"YetGen\\n\")\n",
    "file.close()"
   ]
  },
  {
   "cell_type": "markdown",
   "metadata": {},
   "source": [
    "a : append(ekleme) modudur. Dosya konumda varsa oluşturur, dosya konumda varsa ekleme işlemi yapar.  \n",
    "r+ : Hem okuma hemde yazma modudur. Dosya konumda yoksa hata verir.  \n",
    "\n"
   ]
  },
  {
   "cell_type": "code",
   "execution_count": 67,
   "metadata": {},
   "outputs": [],
   "source": [
    "file = open(\"bilgiler.txt\", \"a\",encoding=\"utf-8\")\n",
    "file.write(\"Yetgen\\n\")\n",
    "file.read\n",
    "file.close()"
   ]
  },
  {
   "cell_type": "code",
   "execution_count": 65,
   "metadata": {},
   "outputs": [],
   "source": [
    "file = open(\"bilgiler.txt\", \"r+\",encoding=\"utf-8\")\n",
    "file.write(\"Pyhton\\n\")\n",
    "file.read\n",
    "file.close()"
   ]
  },
  {
   "cell_type": "markdown",
   "metadata": {},
   "source": [
    "### Dosyaları Otomatik Kapatma\n",
    "``` python\n",
    "with open(dosya_adı, dosya_kipi) as file:\n",
    "    Dosya işlemleri"
   ]
  },
  {
   "cell_type": "code",
   "execution_count": 68,
   "metadata": {},
   "outputs": [
    {
     "name": "stdout",
     "output_type": "stream",
     "text": [
      "Pyhton\n",
      "\n",
      "Yetgen\n",
      "\n"
     ]
    }
   ],
   "source": [
    "with open(\"bilgiler.txt\", \"r+\",encoding=\"utf-8\") as file:\n",
    "    for i in file:\n",
    "        print(i)"
   ]
  },
  {
   "cell_type": "markdown",
   "metadata": {},
   "source": [
    "### Dosyaları İleri-Geri Sarmak\n",
    "``` python\n",
    "seek() metodunu kullanarak istediğimiz bayt konumuna dönebiliriz.  \n",
    "Dosyanın hangi bayt konumunda bulunduğunu öğrenemk istersek tell() metodunu kullanabiliriz.  "
   ]
  },
  {
   "cell_type": "code",
   "execution_count": 70,
   "metadata": {},
   "outputs": [
    {
     "name": "stdout",
     "output_type": "stream",
     "text": [
      "20\n"
     ]
    }
   ],
   "source": [
    "with open(\"bilgiler.txt\", \"r\",encoding=\"utf-8\") as file:\n",
    "    file.seek(20)\n",
    "    print(file.tell()) #İlerleyen vakitlerde dosyalarımızdaki değişiklikler için bu komutlar oldukca kullanılır olacak."
   ]
  },
  {
   "cell_type": "code",
   "execution_count": 74,
   "metadata": {},
   "outputs": [
    {
     "name": "stdout",
     "output_type": "stream",
     "text": [
      "n\n",
      "Yetgen\n",
      "\n",
      "Pyhton\n"
     ]
    }
   ],
   "source": [
    "with open(\"bilgiler.txt\", \"r\",encoding=\"utf-8\") as file:\n",
    "    file.seek(5)\n",
    "    icerik = file.read(10)\n",
    "    print(icerik)\n",
    "    file.seek(0)\n",
    "    icerik2 = file.read(6)\n",
    "    print(icerik2)"
   ]
  },
  {
   "cell_type": "markdown",
   "metadata": {},
   "source": [
    "### Dosyanın Sonunda Değişiklik Yapmak\n"
   ]
  },
  {
   "cell_type": "code",
   "execution_count": null,
   "metadata": {},
   "outputs": [],
   "source": [
    "with open(\"bilgiler.txt\", \"r+\",encoding=\"utf-8\") as file:\n",
    "    file.seek(10)\n",
    "    file.write(\"Deneme\")"
   ]
  },
  {
   "cell_type": "code",
   "execution_count": 78,
   "metadata": {},
   "outputs": [
    {
     "name": "stdout",
     "output_type": "stream",
     "text": [
      "Pyhton\n",
      "YeDeneme\n"
     ]
    }
   ],
   "source": [
    "with open(\"bilgiler.txt\", \"r+\",encoding=\"utf-8\") as file:\n",
    "    print(file.read())"
   ]
  },
  {
   "cell_type": "markdown",
   "metadata": {},
   "source": [
    "### Dosyanın Başında Değişiklik Yapmak"
   ]
  },
  {
   "cell_type": "code",
   "execution_count": 79,
   "metadata": {},
   "outputs": [],
   "source": [
    "with open(\"bilgiler.txt\", \"r+\",encoding=\"utf-8\") as file:\n",
    "    icerik = file.read() #Tanımlama\n",
    "    icerik = \"Deneme\\n\" + icerik #İceriğe ekleyeceğimiz kısmı ekledik\n",
    "    file.seek(0) #Nereye yerleştireceğimizi söyledik.\n",
    "    file.write(icerik) #Yazdırdık"
   ]
  },
  {
   "cell_type": "code",
   "execution_count": 80,
   "metadata": {},
   "outputs": [
    {
     "name": "stdout",
     "output_type": "stream",
     "text": [
      "Deneme\n",
      "Pyhton\n",
      "YeDeneme\n"
     ]
    }
   ],
   "source": [
    "with open(\"bilgiler.txt\", \"r+\",encoding=\"utf-8\") as file:\n",
    "    print(file.read())"
   ]
  },
  {
   "cell_type": "markdown",
   "metadata": {},
   "source": [
    "### Dosyanın Ortasında Değişiklik Yapmak"
   ]
  },
  {
   "cell_type": "code",
   "execution_count": 82,
   "metadata": {},
   "outputs": [],
   "source": [
    "with open(\"bilgiler.txt\", \"r+\",encoding=\"utf-8\") as file:\n",
    "    liste =file.readlines()\n",
    "    liste.insert(3,\"deneme2\\n\") #index belirleyerek ortaya koyucağız.\n",
    "    file.seek(0)\n",
    "    file.writelines(liste)"
   ]
  },
  {
   "cell_type": "code",
   "execution_count": 84,
   "metadata": {},
   "outputs": [
    {
     "name": "stdout",
     "output_type": "stream",
     "text": [
      "Deneme\n",
      "Pyhton\n",
      "YeDenemedeneme2\n",
      "\n"
     ]
    }
   ],
   "source": [
    "with open(\"bilgiler.txt\", \"r+\",encoding=\"utf-8\") as file:\n",
    "    icerik = file.read()\n",
    "    print(icerik)"
   ]
  },
  {
   "cell_type": "markdown",
   "metadata": {},
   "source": [
    "### Nesne Yönelimli Programlama(OOP)\n",
    "DRY(Don't Repeat Yourself)  \n"
   ]
  },
  {
   "cell_type": "markdown",
   "metadata": {},
   "source": [
    "### Class\n",
    "Sınıflar veya Classlar objelerimizi oluştururken objelerin özelliklerini ve metodlarını tanımladığımız bir yapıdır."
   ]
  },
  {
   "cell_type": "code",
   "execution_count": 85,
   "metadata": {},
   "outputs": [],
   "source": [
    "class Araba():\n",
    "    # Sınıf Özellikleri(Attribute)\n",
    "    model = \"Renault Megane\"\n",
    "    renk = \"Gümüş\"\n",
    "    beygirGucu = 110\n",
    "    silindir = 4"
   ]
  },
  {
   "cell_type": "markdown",
   "metadata": {},
   "source": [
    "#### Obje oluşturma\n",
    "``` python\n",
    "obje_ismi = Sınıf_ismi(parametreler(opsiyonel))\n",
    "```\n",
    "**Özelliklere Erişme** \n",
    "``` python\n",
    "obje_ismi.özellik_ismi\n",
    "```"
   ]
  },
  {
   "cell_type": "code",
   "execution_count": null,
   "metadata": {},
   "outputs": [],
   "source": [
    "araba1 = Araba()\n",
    "print(araba1.model)\n",
    "print(araba1.renk)\n",
    "print(araba1.beygirGucu)\n",
    "print(araba1.silindir)\n"
   ]
  },
  {
   "cell_type": "markdown",
   "metadata": {},
   "source": [
    "``` python\n",
    "init()\n",
    "```\n",
    "Pythonda yapıcı(constructor) fonksiyon olarak tanımlanmaktadır.  \n",
    "Bu metod objelerimiz oluşturulurken otomatik olarak ilk çağırılan fonksiyondur.  \n",
    "Bu metodu özel olarak tanımlayarak objelerimizi farklı değerlerle oluşturabiliriz.  "
   ]
  },
  {
   "cell_type": "code",
   "execution_count": 100,
   "metadata": {},
   "outputs": [
    {
     "name": "stdout",
     "output_type": "stream",
     "text": [
      "İnit Fonksiyonu Çalıştı\n"
     ]
    }
   ],
   "source": [
    "class Araba():\n",
    "    def __init__(self):\n",
    "        print(\"İnit Fonksiyonu Çalıştı\")\n",
    "\n",
    "araba = Araba()"
   ]
  },
  {
   "cell_type": "markdown",
   "metadata": {},
   "source": [
    "İnit Fonksiyonu Çalıştı  \n",
    "self anahatar kelimesi objeyi oluşturduğumuz zaman o objeyi gösteren bir referanstır ve metodlarımızda başta bulunnması gereken bir parametredir."
   ]
  },
  {
   "cell_type": "code",
   "execution_count": 98,
   "metadata": {},
   "outputs": [],
   "source": [
    "class Araba():\n",
    "    def __init__(self,model, renk, beygir, silindir):\n",
    "        self.model= model\n",
    "        self.renk = renk\n",
    "        self.beygir = beygir\n",
    "        self.silindir = silindir\n",
    "        \n"
   ]
  },
  {
   "cell_type": "code",
   "execution_count": 99,
   "metadata": {},
   "outputs": [
    {
     "name": "stdout",
     "output_type": "stream",
     "text": [
      "Peugeot 301\n"
     ]
    }
   ],
   "source": [
    "araba2 = Araba(\"Peugeot 301\", \"Beyaz\",90,4 )\n",
    "print(araba2.model)"
   ]
  },
  {
   "cell_type": "markdown",
   "metadata": {},
   "source": [
    "### Uygulama"
   ]
  },
  {
   "cell_type": "markdown",
   "metadata": {},
   "source": [
    "* Comment isminde bir sınıf oluştur.\n",
    "* Comment sınıfı username, text, likes, dislikes isminde özelliklere sahip olsun.\n",
    "* 5 adet farklı comment oluşturup döngü yardımıyla yorumları ekrana yazdırınız."
   ]
  },
  {
   "cell_type": "code",
   "execution_count": 102,
   "metadata": {},
   "outputs": [
    {
     "name": "stdout",
     "output_type": "stream",
     "text": [
      "furkan : Python Öğreniyorum yorumunu yapıp 70 beğeni aldı. 3 dislike aldı.\n",
      "ali : Jumperlar çok çalışkanlar yorumunu yapıp 50 beğeni aldı. 10 dislike aldı.\n",
      "hazal : Bu seneki jumperlar çok başarılı yorumunu yapıp 100 beğeni aldı. 5 dislike aldı.\n",
      "erol : Eğitim çok verimli geçti yorumunu yapıp 87 beğeni aldı. 9 dislike aldı.\n",
      "helin : Bu eğitimde gerçekten hissettim yorumunu yapıp 52 beğeni aldı. 3 dislike aldı.\n"
     ]
    }
   ],
   "source": [
    "class Comment():\n",
    "    def __init__(self, username,text,likes,dislikes):\n",
    "       self.username = username\n",
    "       self.text = text\n",
    "       self.likes = likes\n",
    "       self.dislikes = dislikes\n",
    "\n",
    "c1= Comment(\"furkan\",\"Python Öğreniyorum\",70,3)\n",
    "c2= Comment(\"ali\",\"Jumperlar çok çalışkanlar\",50,10)\n",
    "c3= Comment(\"hazal\",\"Bu seneki jumperlar çok başarılı\",100,5)\n",
    "c4= Comment(\"erol\",\"Eğitim çok verimli geçti\",87,9)\n",
    "c5= Comment(\"helin\",\"Bu eğitimde gerçekten hissettim\",52,3)\n",
    "\n",
    "comments = [c1,c2,c3,c4,c5]\n",
    "\n",
    "for c in comments:\n",
    "    print(f\"{c.username} : {c.text} yorumunu yapıp {c.likes} beğeni aldı. {c.dislikes} dislike aldı.\")"
   ]
  }
 ],
 "metadata": {
  "kernelspec": {
   "display_name": "Python 3",
   "language": "python",
   "name": "python3"
  },
  "language_info": {
   "codemirror_mode": {
    "name": "ipython",
    "version": 3
   },
   "file_extension": ".py",
   "mimetype": "text/x-python",
   "name": "python",
   "nbconvert_exporter": "python",
   "pygments_lexer": "ipython3",
   "version": "3.12.3"
  }
 },
 "nbformat": 4,
 "nbformat_minor": 2
}
