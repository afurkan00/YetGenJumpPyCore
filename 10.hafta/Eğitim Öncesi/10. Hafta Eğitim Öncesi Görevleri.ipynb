{
 "cells": [
  {
   "attachments": {},
   "cell_type": "markdown",
   "metadata": {},
   "source": [
    "# Problem 1"
   ]
  },
  {
   "cell_type": "code",
   "execution_count": 84,
   "metadata": {},
   "outputs": [
    {
     "name": "stdout",
     "output_type": "stream",
     "text": [
      "[[ 10.81934974  -1.39030497  -8.03023404 -14.1936416   -0.97217094]\n",
      " [ -7.89260721  -3.65946332  -4.76172512  15.80206364  13.27594986]\n",
      " [ -8.83231425   2.15101874  14.84380387  19.85177372   8.36500324]\n",
      " [  5.11668237 -16.40436549   3.59670239   4.43803022   9.4860062 ]]\n",
      "--------\n",
      "[[ 10.81934974  -1.39030497]\n",
      " [ -7.89260721  -3.65946332]\n",
      " [ -8.83231425   2.15101874]\n",
      " [  5.11668237 -16.40436549]]\n",
      "--------\n",
      "float64\n",
      "--------\n",
      "[[ 10.81934974  -1.39030497  -8.03023404 -14.1936416   -0.97217094]\n",
      " [ -7.89260721  -3.65946332  -4.76172512  15.80206364  13.27594986]\n",
      " [ -8.83231425   2.15101874  14.84380387  19.85177372   8.36500324]\n",
      " [  5.11668237 -16.40436549   3.59670239   4.43803022   9.4860062 ]]\n",
      "--------\n",
      "2\n"
     ]
    }
   ],
   "source": [
    "import numpy as np \n",
    "\n",
    "# 2 - 0 ile 10 arasında 5 sayıdan oluşan matris üretin\n",
    "a = np.random.normal(0,10,(4,5))\n",
    "print(a)\n",
    "print(\"--------\")\n",
    "\n",
    "alt_a = a[0:5,0:2]\n",
    "print(alt_a)\n",
    "print(\"--------\")\n",
    "\n",
    "print(a.dtype)\n",
    "print(\"--------\")\n",
    "\n",
    "multi = a.reshape(2,10)\n",
    "print(a)\n",
    "print(\"--------\")\n",
    "\n",
    "print(a.ndim)"
   ]
  },
  {
   "attachments": {},
   "cell_type": "markdown",
   "metadata": {},
   "source": [
    "# Problem 2"
   ]
  },
  {
   "cell_type": "code",
   "execution_count": 129,
   "metadata": {},
   "outputs": [
    {
     "name": "stdout",
     "output_type": "stream",
     "text": [
      "[[1 3]\n",
      " [5 7]]\n",
      "[array([1]), array([3, 5]), array([7, 9])]\n",
      "[1 3 5 7 9]\n"
     ]
    }
   ],
   "source": [
    "# 1 - 0 ile 10 arasında bulunan tek sayılardan oluşan matris üretin\n",
    "b =np.arange(1,10,2)\n",
    "\n",
    "matrix = b[:4].reshape(2,2)\n",
    "print(matrix) \n",
    "#Kalan son elemanı nasıl koyabileceğimi bulamadım.\n",
    "# 2 - Oluşturduğunuz matrisi parçalayın\n",
    "print(np.split(b,[1,3]))\n",
    "# 3 - Parçalanmış matrisleri birleştirin\n",
    "print(np.concatenate([b]))\n"
   ]
  },
  {
   "attachments": {},
   "cell_type": "markdown",
   "metadata": {},
   "source": [
    "# Problem 3"
   ]
  },
  {
   "cell_type": "code",
   "execution_count": 113,
   "metadata": {},
   "outputs": [
    {
     "name": "stdout",
     "output_type": "stream",
     "text": [
      "[[43 24 46 17 36]\n",
      " [42 47 37  9 12]]\n",
      "-------------\n",
      "Özellikler\n",
      "(2, 5)\n",
      "10\n",
      "int32\n"
     ]
    }
   ],
   "source": [
    "# 1 - 5 ile 100 arasında ikişer ikişer atlayarak rastgele 10 sayıdan oluşan matris üretin\n",
    "c =np.arange(5,100,2)\n",
    "\n",
    "sec =np.random.choice(c.size, 10, replace= False)\n",
    "#10 sayıyı seçmek için choice komutunu kullandık.\n",
    "#c.size eleman sayısı ve seçilmesi istediğimiz eleman sayısını yazdık\n",
    "#replace=False aynı elemanın birden fazla seçilmemesini sağlamak için kullandık.\n",
    "secilen = c[sec]\n",
    "\n",
    "matrix = sec.reshape(2,5) #2x5'lik bir matris olarak koyduk.\n",
    "print(matrix)\n",
    "\n",
    "# 2 - matris'in özelliklerini inceleyin\n",
    "print(\"\"\"-------------\n",
    "Özellikler\"\"\")\n",
    "print(matrix.shape)  # Matrisin boyutu\n",
    "print(matrix.size)   # Eleman sayısı\n",
    "print(matrix.dtype)  # Veri tipi\n"
   ]
  }
 ],
 "metadata": {
  "kernelspec": {
   "display_name": "Python 3",
   "language": "python",
   "name": "python3"
  },
  "language_info": {
   "codemirror_mode": {
    "name": "ipython",
    "version": 3
   },
   "file_extension": ".py",
   "mimetype": "text/x-python",
   "name": "python",
   "nbconvert_exporter": "python",
   "pygments_lexer": "ipython3",
   "version": "3.12.3"
  },
  "orig_nbformat": 4,
  "vscode": {
   "interpreter": {
    "hash": "5026d2d6e7aaaaba093def813beadff083d8733e4a511af01735cbabd156995d"
   }
  }
 },
 "nbformat": 4,
 "nbformat_minor": 2
}
